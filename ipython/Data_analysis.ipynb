{
 "cells": [
  {
   "cell_type": "code",
   "execution_count": 1,
   "metadata": {
    "collapsed": true,
    "deletable": true,
    "editable": true
   },
   "outputs": [],
   "source": [
    "import numpy as np\n",
    "import matplotlib.pyplot as plt\n",
    "import pandas as pd"
   ]
  },
  {
   "cell_type": "code",
   "execution_count": 2,
   "metadata": {
    "collapsed": false,
    "deletable": true,
    "editable": true
   },
   "outputs": [],
   "source": [
    "prod = pd.read_csv('GET_labourproductivity.csv')"
   ]
  },
  {
   "cell_type": "code",
   "execution_count": 3,
   "metadata": {
    "collapsed": true,
    "deletable": true,
    "editable": true
   },
   "outputs": [],
   "source": [
    "sector_share = pd.read_csv('GET_sector_share.csv')"
   ]
  },
  {
   "cell_type": "code",
   "execution_count": 4,
   "metadata": {
    "collapsed": true,
    "deletable": true,
    "editable": true
   },
   "outputs": [],
   "source": [
    "gdp = pd.read_csv('GDP.csv')"
   ]
  },
  {
   "cell_type": "code",
   "execution_count": 5,
   "metadata": {
    "collapsed": false,
    "deletable": true,
    "editable": true
   },
   "outputs": [],
   "source": [
    "disc = pd.read_csv('disc.csv')"
   ]
  },
  {
   "cell_type": "code",
   "execution_count": 6,
   "metadata": {
    "collapsed": false,
    "deletable": true,
    "editable": true,
    "scrolled": false
   },
   "outputs": [
    {
     "name": "stdout",
     "output_type": "stream",
     "text": [
      "Index(['Region_country', 'Country_code', 'Indicator Name', '1991', '1992',\n",
      "       '1993', '1994', '1995', '1996', '1997', '1998', '1999', '2000', '2001',\n",
      "       '2002', '2003', '2004', '2005', '2006', '2007', '2008', '2009', '2010',\n",
      "       '2011', '2012', '2013', '2014', '2015', '2016'],\n",
      "      dtype='object')\n"
     ]
    }
   ],
   "source": [
    "print (gdp.columns)"
   ]
  },
  {
   "cell_type": "code",
   "execution_count": 7,
   "metadata": {
    "collapsed": false,
    "deletable": true,
    "editable": true
   },
   "outputs": [
    {
     "name": "stdout",
     "output_type": "stream",
     "text": [
      "Index(['Region_country', 'Region_type', 'Country_id', 'Country_code', 'Region',\n",
      "       'Region_id'],\n",
      "      dtype='object')\n"
     ]
    }
   ],
   "source": [
    "print (disc.columns)"
   ]
  },
  {
   "cell_type": "code",
   "execution_count": 8,
   "metadata": {
    "collapsed": false,
    "deletable": true,
    "editable": true
   },
   "outputs": [
    {
     "name": "stdout",
     "output_type": "stream",
     "text": [
      "Index(['Year', 'Region_country', 'Output_per_worker'], dtype='object')\n"
     ]
    }
   ],
   "source": [
    "print (prod.columns)"
   ]
  },
  {
   "cell_type": "code",
   "execution_count": 9,
   "metadata": {
    "collapsed": false,
    "deletable": true,
    "editable": true
   },
   "outputs": [
    {
     "name": "stdout",
     "output_type": "stream",
     "text": [
      "Index(['Year', 'Region_country', 'Agriculture', 'Agriculture_Male',\n",
      "       'Agriculture_Female', 'Industry', 'Industry_Male', 'Industry_Female',\n",
      "       'Services', 'Services_Male', 'Services_Female'],\n",
      "      dtype='object')\n"
     ]
    }
   ],
   "source": [
    "print (sector_share.columns)"
   ]
  },
  {
   "cell_type": "code",
   "execution_count": 10,
   "metadata": {
    "collapsed": false,
    "deletable": true,
    "editable": true
   },
   "outputs": [
    {
     "name": "stdout",
     "output_type": "stream",
     "text": [
      "              Year  Output_per_worker\n",
      "count  5264.000000        5264.000000\n",
      "mean   2004.500000       21106.722264\n",
      "std       8.078515       28641.677973\n",
      "min    1991.000000         156.000000\n",
      "25%    1997.750000        2329.750000\n",
      "50%    2004.500000        8903.000000\n",
      "75%    2011.250000       26650.500000\n",
      "max    2018.000000      204441.000000\n"
     ]
    }
   ],
   "source": [
    "print (prod.describe())"
   ]
  },
  {
   "cell_type": "code",
   "execution_count": 11,
   "metadata": {
    "collapsed": false,
    "deletable": true,
    "editable": true,
    "scrolled": true
   },
   "outputs": [
    {
     "name": "stdout",
     "output_type": "stream",
     "text": [
      "              Year  Agriculture  Agriculture_Male  Agriculture_Female  \\\n",
      "count  5264.000000  5264.000000       5264.000000         5264.000000   \n",
      "mean   2004.500000    31.058758         31.174240           31.189210   \n",
      "std       8.078515    25.410264         24.116307           28.998353   \n",
      "min    1991.000000     0.000000          0.000000            0.000000   \n",
      "25%    1997.750000     7.100000          8.500000            4.200000   \n",
      "50%    2004.500000    25.700000         27.200000           22.500000   \n",
      "75%    2011.250000    51.800000         50.825000           55.300000   \n",
      "max    2018.000000    92.200000         93.200000           96.700000   \n",
      "\n",
      "          Industry  Industry_Male  Industry_Female     Services  \\\n",
      "count  5264.000000    5264.000000      5264.000000  5264.000000   \n",
      "mean     19.674183      24.217971        12.526444    49.265843   \n",
      "std       9.712058      11.303748         9.223482    19.365789   \n",
      "min       1.700000       1.500000         0.300000     5.700000   \n",
      "25%      12.100000      15.600000         6.500000    34.100000   \n",
      "50%      20.200000      24.700000        11.100000    50.100000   \n",
      "75%      25.500000      32.200000        16.500000    65.000000   \n",
      "max      73.900000      66.100000        93.200000    88.200000   \n",
      "\n",
      "       Services_Male  Services_Female  \n",
      "count    5264.000000      5264.000000  \n",
      "mean       44.600627        56.274563  \n",
      "std        16.051599        26.550811  \n",
      "min         5.300000         2.200000  \n",
      "25%        32.600000        33.000000  \n",
      "50%        44.900000        60.600000  \n",
      "75%        56.000000        81.300000  \n",
      "max        84.700000        98.700000  \n"
     ]
    }
   ],
   "source": [
    "print (sector_share.describe())"
   ]
  },
  {
   "cell_type": "code",
   "execution_count": 12,
   "metadata": {
    "collapsed": false,
    "deletable": true,
    "editable": true
   },
   "outputs": [],
   "source": [
    "prod.Year = prod.Year.astype(str)\n",
    "sector_share.Year = sector_share.Year.astype(str)"
   ]
  },
  {
   "cell_type": "code",
   "execution_count": 14,
   "metadata": {
    "collapsed": false,
    "deletable": true,
    "editable": true
   },
   "outputs": [],
   "source": [
    "#merge sector_share with labor productivity\n",
    "sector_prod_merge=pd.merge(sector_share,prod,on=['Year','Region_country'])"
   ]
  },
  {
   "cell_type": "code",
   "execution_count": 15,
   "metadata": {
    "collapsed": false,
    "deletable": true,
    "editable": true,
    "scrolled": true
   },
   "outputs": [
    {
     "data": {
      "text/html": [
       "<div>\n",
       "<table border=\"1\" class=\"dataframe\">\n",
       "  <thead>\n",
       "    <tr style=\"text-align: right;\">\n",
       "      <th></th>\n",
       "      <th>Year</th>\n",
       "      <th>Region_country</th>\n",
       "      <th>Agriculture</th>\n",
       "      <th>Agriculture_Male</th>\n",
       "      <th>Agriculture_Female</th>\n",
       "      <th>Industry</th>\n",
       "      <th>Industry_Male</th>\n",
       "      <th>Industry_Female</th>\n",
       "      <th>Services</th>\n",
       "      <th>Services_Male</th>\n",
       "      <th>Services_Female</th>\n",
       "      <th>Output_per_worker</th>\n",
       "    </tr>\n",
       "  </thead>\n",
       "  <tbody>\n",
       "    <tr>\n",
       "      <th>0</th>\n",
       "      <td>1991</td>\n",
       "      <td>World</td>\n",
       "      <td>44.5</td>\n",
       "      <td>41.6</td>\n",
       "      <td>48.9</td>\n",
       "      <td>21.7</td>\n",
       "      <td>25.0</td>\n",
       "      <td>16.6</td>\n",
       "      <td>33.8</td>\n",
       "      <td>33.4</td>\n",
       "      <td>34.4</td>\n",
       "      <td>16138</td>\n",
       "    </tr>\n",
       "    <tr>\n",
       "      <th>1</th>\n",
       "      <td>1992</td>\n",
       "      <td>World</td>\n",
       "      <td>44.3</td>\n",
       "      <td>41.5</td>\n",
       "      <td>48.7</td>\n",
       "      <td>21.5</td>\n",
       "      <td>24.8</td>\n",
       "      <td>16.4</td>\n",
       "      <td>34.2</td>\n",
       "      <td>33.7</td>\n",
       "      <td>34.9</td>\n",
       "      <td>16054</td>\n",
       "    </tr>\n",
       "    <tr>\n",
       "      <th>2</th>\n",
       "      <td>1993</td>\n",
       "      <td>World</td>\n",
       "      <td>43.5</td>\n",
       "      <td>40.8</td>\n",
       "      <td>47.7</td>\n",
       "      <td>21.4</td>\n",
       "      <td>24.7</td>\n",
       "      <td>16.3</td>\n",
       "      <td>35.0</td>\n",
       "      <td>34.5</td>\n",
       "      <td>35.9</td>\n",
       "      <td>16135</td>\n",
       "    </tr>\n",
       "    <tr>\n",
       "      <th>3</th>\n",
       "      <td>1994</td>\n",
       "      <td>World</td>\n",
       "      <td>42.8</td>\n",
       "      <td>40.2</td>\n",
       "      <td>46.8</td>\n",
       "      <td>21.3</td>\n",
       "      <td>24.7</td>\n",
       "      <td>16.2</td>\n",
       "      <td>35.9</td>\n",
       "      <td>35.2</td>\n",
       "      <td>37.0</td>\n",
       "      <td>16350</td>\n",
       "    </tr>\n",
       "    <tr>\n",
       "      <th>4</th>\n",
       "      <td>1995</td>\n",
       "      <td>World</td>\n",
       "      <td>41.8</td>\n",
       "      <td>39.4</td>\n",
       "      <td>45.6</td>\n",
       "      <td>21.2</td>\n",
       "      <td>24.6</td>\n",
       "      <td>16.1</td>\n",
       "      <td>36.9</td>\n",
       "      <td>36.0</td>\n",
       "      <td>38.3</td>\n",
       "      <td>16607</td>\n",
       "    </tr>\n",
       "    <tr>\n",
       "      <th>5</th>\n",
       "      <td>1996</td>\n",
       "      <td>World</td>\n",
       "      <td>41.1</td>\n",
       "      <td>38.8</td>\n",
       "      <td>44.7</td>\n",
       "      <td>21.3</td>\n",
       "      <td>24.6</td>\n",
       "      <td>16.1</td>\n",
       "      <td>37.6</td>\n",
       "      <td>36.6</td>\n",
       "      <td>39.2</td>\n",
       "      <td>16960</td>\n",
       "    </tr>\n",
       "  </tbody>\n",
       "</table>\n",
       "</div>"
      ],
      "text/plain": [
       "   Year Region_country  Agriculture  Agriculture_Male  Agriculture_Female  \\\n",
       "0  1991          World         44.5              41.6                48.9   \n",
       "1  1992          World         44.3              41.5                48.7   \n",
       "2  1993          World         43.5              40.8                47.7   \n",
       "3  1994          World         42.8              40.2                46.8   \n",
       "4  1995          World         41.8              39.4                45.6   \n",
       "5  1996          World         41.1              38.8                44.7   \n",
       "\n",
       "   Industry  Industry_Male  Industry_Female  Services  Services_Male  \\\n",
       "0      21.7           25.0             16.6      33.8           33.4   \n",
       "1      21.5           24.8             16.4      34.2           33.7   \n",
       "2      21.4           24.7             16.3      35.0           34.5   \n",
       "3      21.3           24.7             16.2      35.9           35.2   \n",
       "4      21.2           24.6             16.1      36.9           36.0   \n",
       "5      21.3           24.6             16.1      37.6           36.6   \n",
       "\n",
       "   Services_Female  Output_per_worker  \n",
       "0             34.4              16138  \n",
       "1             34.9              16054  \n",
       "2             35.9              16135  \n",
       "3             37.0              16350  \n",
       "4             38.3              16607  \n",
       "5             39.2              16960  "
      ]
     },
     "execution_count": 15,
     "metadata": {},
     "output_type": "execute_result"
    }
   ],
   "source": [
    "sector_prod_merge.ix[:5]"
   ]
  },
  {
   "cell_type": "code",
   "execution_count": 16,
   "metadata": {
    "collapsed": false,
    "deletable": true,
    "editable": true
   },
   "outputs": [],
   "source": [
    "# transfrom GDP dataset with melt method to the sturctrue which could be later merged with other data \n",
    "gdp_data=pd.melt(gdp, id_vars=['Country_code'], value_vars=[\"1991\",\"1992\",\"1993\",\"1994\",\"1995\",\"1996\",\"1997\",\"1998\",\n",
    "                                                            \"1999\",\"2000\",\"2001\",\"2002\",\"2003\",\"2004\",\"2005\",\"2006\",\n",
    "                                                            \"2007\",\"2008\",\"2009\",\"2010\",\"2011\",\"2012\",\"2013\",\"2014\",\n",
    "                                                            \"2015\",\"2016\"],\n",
    "        var_name='Year', value_name='GDP_per_Capita')\n"
   ]
  },
  {
   "cell_type": "code",
   "execution_count": 17,
   "metadata": {
    "collapsed": false,
    "deletable": true,
    "editable": true
   },
   "outputs": [],
   "source": [
    "# merge dataset share of sector with country code disc\n",
    "sector_share_disc=pd.merge(sector_share, disc, on='Region_country', how='left', sort=False);"
   ]
  },
  {
   "cell_type": "code",
   "execution_count": 18,
   "metadata": {
    "collapsed": false,
    "deletable": true,
    "editable": true,
    "scrolled": true
   },
   "outputs": [
    {
     "data": {
      "text/html": [
       "<div>\n",
       "<table border=\"1\" class=\"dataframe\">\n",
       "  <thead>\n",
       "    <tr style=\"text-align: right;\">\n",
       "      <th></th>\n",
       "      <th>Year</th>\n",
       "      <th>Region_country</th>\n",
       "      <th>Agriculture</th>\n",
       "      <th>Agriculture_Male</th>\n",
       "      <th>Agriculture_Female</th>\n",
       "      <th>Industry</th>\n",
       "      <th>Industry_Male</th>\n",
       "      <th>Industry_Female</th>\n",
       "      <th>Services</th>\n",
       "      <th>Services_Male</th>\n",
       "      <th>Services_Female</th>\n",
       "      <th>Region_type</th>\n",
       "      <th>Country_id</th>\n",
       "      <th>Country_code</th>\n",
       "      <th>Region</th>\n",
       "      <th>Region_id</th>\n",
       "    </tr>\n",
       "  </thead>\n",
       "  <tbody>\n",
       "    <tr>\n",
       "      <th>0</th>\n",
       "      <td>1991</td>\n",
       "      <td>World</td>\n",
       "      <td>44.5</td>\n",
       "      <td>41.6</td>\n",
       "      <td>48.9</td>\n",
       "      <td>21.7</td>\n",
       "      <td>25.0</td>\n",
       "      <td>16.6</td>\n",
       "      <td>33.8</td>\n",
       "      <td>33.4</td>\n",
       "      <td>34.4</td>\n",
       "      <td>World</td>\n",
       "      <td>0</td>\n",
       "      <td>0</td>\n",
       "      <td>World</td>\n",
       "      <td>10</td>\n",
       "    </tr>\n",
       "    <tr>\n",
       "      <th>1</th>\n",
       "      <td>1992</td>\n",
       "      <td>World</td>\n",
       "      <td>44.3</td>\n",
       "      <td>41.5</td>\n",
       "      <td>48.7</td>\n",
       "      <td>21.5</td>\n",
       "      <td>24.8</td>\n",
       "      <td>16.4</td>\n",
       "      <td>34.2</td>\n",
       "      <td>33.7</td>\n",
       "      <td>34.9</td>\n",
       "      <td>World</td>\n",
       "      <td>0</td>\n",
       "      <td>0</td>\n",
       "      <td>World</td>\n",
       "      <td>10</td>\n",
       "    </tr>\n",
       "    <tr>\n",
       "      <th>2</th>\n",
       "      <td>1993</td>\n",
       "      <td>World</td>\n",
       "      <td>43.5</td>\n",
       "      <td>40.8</td>\n",
       "      <td>47.7</td>\n",
       "      <td>21.4</td>\n",
       "      <td>24.7</td>\n",
       "      <td>16.3</td>\n",
       "      <td>35.0</td>\n",
       "      <td>34.5</td>\n",
       "      <td>35.9</td>\n",
       "      <td>World</td>\n",
       "      <td>0</td>\n",
       "      <td>0</td>\n",
       "      <td>World</td>\n",
       "      <td>10</td>\n",
       "    </tr>\n",
       "  </tbody>\n",
       "</table>\n",
       "</div>"
      ],
      "text/plain": [
       "   Year Region_country  Agriculture  Agriculture_Male  Agriculture_Female  \\\n",
       "0  1991          World         44.5              41.6                48.9   \n",
       "1  1992          World         44.3              41.5                48.7   \n",
       "2  1993          World         43.5              40.8                47.7   \n",
       "\n",
       "   Industry  Industry_Male  Industry_Female  Services  Services_Male  \\\n",
       "0      21.7           25.0             16.6      33.8           33.4   \n",
       "1      21.5           24.8             16.4      34.2           33.7   \n",
       "2      21.4           24.7             16.3      35.0           34.5   \n",
       "\n",
       "   Services_Female Region_type  Country_id Country_code Region  Region_id  \n",
       "0             34.4       World           0            0  World         10  \n",
       "1             34.9       World           0            0  World         10  \n",
       "2             35.9       World           0            0  World         10  "
      ]
     },
     "execution_count": 18,
     "metadata": {},
     "output_type": "execute_result"
    }
   ],
   "source": [
    "sector_share_disc.ix[:2]"
   ]
  },
  {
   "cell_type": "code",
   "execution_count": 19,
   "metadata": {
    "collapsed": false,
    "deletable": true,
    "editable": true
   },
   "outputs": [],
   "source": [
    "gdp_data.Country_code = gdp_data.Country_code.astype(str)\n"
   ]
  },
  {
   "cell_type": "code",
   "execution_count": 20,
   "metadata": {
    "collapsed": true,
    "deletable": true,
    "editable": true
   },
   "outputs": [],
   "source": [
    "sector_share_disc.Country_code = sector_share_disc.Country_code.astype(str)\n"
   ]
  },
  {
   "cell_type": "code",
   "execution_count": 21,
   "metadata": {
    "collapsed": false,
    "deletable": true,
    "editable": true
   },
   "outputs": [],
   "source": [
    "sector_share_disc.Year = sector_share_disc.Year.astype(str)\n"
   ]
  },
  {
   "cell_type": "code",
   "execution_count": 22,
   "metadata": {
    "collapsed": true,
    "deletable": true,
    "editable": true
   },
   "outputs": [],
   "source": [
    "gdp_data.Year = gdp_data.Year.astype(str)"
   ]
  },
  {
   "cell_type": "code",
   "execution_count": 23,
   "metadata": {
    "collapsed": true,
    "deletable": true,
    "editable": true
   },
   "outputs": [],
   "source": [
    "# merge sector_share_disc with gdp_data\n",
    "data_merge=pd.merge(sector_share_disc,gdp_data,on=['Country_code','Year'],how='left');"
   ]
  },
  {
   "cell_type": "code",
   "execution_count": 24,
   "metadata": {
    "collapsed": false,
    "deletable": true,
    "editable": true
   },
   "outputs": [
    {
     "data": {
      "text/html": [
       "<div>\n",
       "<table border=\"1\" class=\"dataframe\">\n",
       "  <thead>\n",
       "    <tr style=\"text-align: right;\">\n",
       "      <th></th>\n",
       "      <th>Year</th>\n",
       "      <th>Region_country</th>\n",
       "      <th>Agriculture</th>\n",
       "      <th>Agriculture_Male</th>\n",
       "      <th>Agriculture_Female</th>\n",
       "      <th>Industry</th>\n",
       "      <th>Industry_Male</th>\n",
       "      <th>Industry_Female</th>\n",
       "      <th>Services</th>\n",
       "      <th>Services_Male</th>\n",
       "      <th>Services_Female</th>\n",
       "      <th>Region_type</th>\n",
       "      <th>Country_id</th>\n",
       "      <th>Country_code</th>\n",
       "      <th>Region</th>\n",
       "      <th>Region_id</th>\n",
       "      <th>GDP_per_Capita</th>\n",
       "    </tr>\n",
       "  </thead>\n",
       "  <tbody>\n",
       "    <tr>\n",
       "      <th>0</th>\n",
       "      <td>1991</td>\n",
       "      <td>World</td>\n",
       "      <td>44.5</td>\n",
       "      <td>41.6</td>\n",
       "      <td>48.9</td>\n",
       "      <td>21.7</td>\n",
       "      <td>25.0</td>\n",
       "      <td>16.6</td>\n",
       "      <td>33.8</td>\n",
       "      <td>33.4</td>\n",
       "      <td>34.4</td>\n",
       "      <td>World</td>\n",
       "      <td>0</td>\n",
       "      <td>0</td>\n",
       "      <td>World</td>\n",
       "      <td>10</td>\n",
       "      <td>NaN</td>\n",
       "    </tr>\n",
       "    <tr>\n",
       "      <th>1</th>\n",
       "      <td>1992</td>\n",
       "      <td>World</td>\n",
       "      <td>44.3</td>\n",
       "      <td>41.5</td>\n",
       "      <td>48.7</td>\n",
       "      <td>21.5</td>\n",
       "      <td>24.8</td>\n",
       "      <td>16.4</td>\n",
       "      <td>34.2</td>\n",
       "      <td>33.7</td>\n",
       "      <td>34.9</td>\n",
       "      <td>World</td>\n",
       "      <td>0</td>\n",
       "      <td>0</td>\n",
       "      <td>World</td>\n",
       "      <td>10</td>\n",
       "      <td>NaN</td>\n",
       "    </tr>\n",
       "    <tr>\n",
       "      <th>2</th>\n",
       "      <td>1993</td>\n",
       "      <td>World</td>\n",
       "      <td>43.5</td>\n",
       "      <td>40.8</td>\n",
       "      <td>47.7</td>\n",
       "      <td>21.4</td>\n",
       "      <td>24.7</td>\n",
       "      <td>16.3</td>\n",
       "      <td>35.0</td>\n",
       "      <td>34.5</td>\n",
       "      <td>35.9</td>\n",
       "      <td>World</td>\n",
       "      <td>0</td>\n",
       "      <td>0</td>\n",
       "      <td>World</td>\n",
       "      <td>10</td>\n",
       "      <td>NaN</td>\n",
       "    </tr>\n",
       "    <tr>\n",
       "      <th>3</th>\n",
       "      <td>1994</td>\n",
       "      <td>World</td>\n",
       "      <td>42.8</td>\n",
       "      <td>40.2</td>\n",
       "      <td>46.8</td>\n",
       "      <td>21.3</td>\n",
       "      <td>24.7</td>\n",
       "      <td>16.2</td>\n",
       "      <td>35.9</td>\n",
       "      <td>35.2</td>\n",
       "      <td>37.0</td>\n",
       "      <td>World</td>\n",
       "      <td>0</td>\n",
       "      <td>0</td>\n",
       "      <td>World</td>\n",
       "      <td>10</td>\n",
       "      <td>NaN</td>\n",
       "    </tr>\n",
       "    <tr>\n",
       "      <th>4</th>\n",
       "      <td>1995</td>\n",
       "      <td>World</td>\n",
       "      <td>41.8</td>\n",
       "      <td>39.4</td>\n",
       "      <td>45.6</td>\n",
       "      <td>21.2</td>\n",
       "      <td>24.6</td>\n",
       "      <td>16.1</td>\n",
       "      <td>36.9</td>\n",
       "      <td>36.0</td>\n",
       "      <td>38.3</td>\n",
       "      <td>World</td>\n",
       "      <td>0</td>\n",
       "      <td>0</td>\n",
       "      <td>World</td>\n",
       "      <td>10</td>\n",
       "      <td>NaN</td>\n",
       "    </tr>\n",
       "    <tr>\n",
       "      <th>5</th>\n",
       "      <td>1996</td>\n",
       "      <td>World</td>\n",
       "      <td>41.1</td>\n",
       "      <td>38.8</td>\n",
       "      <td>44.7</td>\n",
       "      <td>21.3</td>\n",
       "      <td>24.6</td>\n",
       "      <td>16.1</td>\n",
       "      <td>37.6</td>\n",
       "      <td>36.6</td>\n",
       "      <td>39.2</td>\n",
       "      <td>World</td>\n",
       "      <td>0</td>\n",
       "      <td>0</td>\n",
       "      <td>World</td>\n",
       "      <td>10</td>\n",
       "      <td>NaN</td>\n",
       "    </tr>\n",
       "  </tbody>\n",
       "</table>\n",
       "</div>"
      ],
      "text/plain": [
       "   Year Region_country  Agriculture  Agriculture_Male  Agriculture_Female  \\\n",
       "0  1991          World         44.5              41.6                48.9   \n",
       "1  1992          World         44.3              41.5                48.7   \n",
       "2  1993          World         43.5              40.8                47.7   \n",
       "3  1994          World         42.8              40.2                46.8   \n",
       "4  1995          World         41.8              39.4                45.6   \n",
       "5  1996          World         41.1              38.8                44.7   \n",
       "\n",
       "   Industry  Industry_Male  Industry_Female  Services  Services_Male  \\\n",
       "0      21.7           25.0             16.6      33.8           33.4   \n",
       "1      21.5           24.8             16.4      34.2           33.7   \n",
       "2      21.4           24.7             16.3      35.0           34.5   \n",
       "3      21.3           24.7             16.2      35.9           35.2   \n",
       "4      21.2           24.6             16.1      36.9           36.0   \n",
       "5      21.3           24.6             16.1      37.6           36.6   \n",
       "\n",
       "   Services_Female Region_type  Country_id Country_code Region  Region_id  \\\n",
       "0             34.4       World           0            0  World         10   \n",
       "1             34.9       World           0            0  World         10   \n",
       "2             35.9       World           0            0  World         10   \n",
       "3             37.0       World           0            0  World         10   \n",
       "4             38.3       World           0            0  World         10   \n",
       "5             39.2       World           0            0  World         10   \n",
       "\n",
       "   GDP_per_Capita  \n",
       "0             NaN  \n",
       "1             NaN  \n",
       "2             NaN  \n",
       "3             NaN  \n",
       "4             NaN  \n",
       "5             NaN  "
      ]
     },
     "execution_count": 24,
     "metadata": {},
     "output_type": "execute_result"
    }
   ],
   "source": [
    "data_merge.ix[:5]"
   ]
  },
  {
   "cell_type": "code",
   "execution_count": 25,
   "metadata": {
    "collapsed": true,
    "deletable": true,
    "editable": true
   },
   "outputs": [],
   "source": [
    "data_merge.Year = data_merge.Year.astype(str)"
   ]
  },
  {
   "cell_type": "code",
   "execution_count": 26,
   "metadata": {
    "collapsed": true,
    "deletable": true,
    "editable": true
   },
   "outputs": [],
   "source": [
    "#merge data_merge with labor productivity\n",
    "data_prod_gdp=pd.merge(data_merge,prod,on=['Year','Region_country'])"
   ]
  },
  {
   "cell_type": "code",
   "execution_count": 27,
   "metadata": {
    "collapsed": false,
    "deletable": true,
    "editable": true,
    "scrolled": false
   },
   "outputs": [
    {
     "data": {
      "text/html": [
       "<div>\n",
       "<table border=\"1\" class=\"dataframe\">\n",
       "  <thead>\n",
       "    <tr style=\"text-align: right;\">\n",
       "      <th></th>\n",
       "      <th>Year</th>\n",
       "      <th>Region_country</th>\n",
       "      <th>Agriculture</th>\n",
       "      <th>Agriculture_Male</th>\n",
       "      <th>Agriculture_Female</th>\n",
       "      <th>Industry</th>\n",
       "      <th>Industry_Male</th>\n",
       "      <th>Industry_Female</th>\n",
       "      <th>Services</th>\n",
       "      <th>Services_Male</th>\n",
       "      <th>Services_Female</th>\n",
       "      <th>Region_type</th>\n",
       "      <th>Country_id</th>\n",
       "      <th>Country_code</th>\n",
       "      <th>Region</th>\n",
       "      <th>Region_id</th>\n",
       "      <th>GDP_per_Capita</th>\n",
       "      <th>Output_per_worker</th>\n",
       "    </tr>\n",
       "  </thead>\n",
       "  <tbody>\n",
       "    <tr>\n",
       "      <th>0</th>\n",
       "      <td>1991</td>\n",
       "      <td>World</td>\n",
       "      <td>44.5</td>\n",
       "      <td>41.6</td>\n",
       "      <td>48.9</td>\n",
       "      <td>21.7</td>\n",
       "      <td>25.0</td>\n",
       "      <td>16.6</td>\n",
       "      <td>33.8</td>\n",
       "      <td>33.4</td>\n",
       "      <td>34.4</td>\n",
       "      <td>World</td>\n",
       "      <td>0</td>\n",
       "      <td>0</td>\n",
       "      <td>World</td>\n",
       "      <td>10</td>\n",
       "      <td>NaN</td>\n",
       "      <td>16138</td>\n",
       "    </tr>\n",
       "    <tr>\n",
       "      <th>1</th>\n",
       "      <td>1992</td>\n",
       "      <td>World</td>\n",
       "      <td>44.3</td>\n",
       "      <td>41.5</td>\n",
       "      <td>48.7</td>\n",
       "      <td>21.5</td>\n",
       "      <td>24.8</td>\n",
       "      <td>16.4</td>\n",
       "      <td>34.2</td>\n",
       "      <td>33.7</td>\n",
       "      <td>34.9</td>\n",
       "      <td>World</td>\n",
       "      <td>0</td>\n",
       "      <td>0</td>\n",
       "      <td>World</td>\n",
       "      <td>10</td>\n",
       "      <td>NaN</td>\n",
       "      <td>16054</td>\n",
       "    </tr>\n",
       "    <tr>\n",
       "      <th>2</th>\n",
       "      <td>1993</td>\n",
       "      <td>World</td>\n",
       "      <td>43.5</td>\n",
       "      <td>40.8</td>\n",
       "      <td>47.7</td>\n",
       "      <td>21.4</td>\n",
       "      <td>24.7</td>\n",
       "      <td>16.3</td>\n",
       "      <td>35.0</td>\n",
       "      <td>34.5</td>\n",
       "      <td>35.9</td>\n",
       "      <td>World</td>\n",
       "      <td>0</td>\n",
       "      <td>0</td>\n",
       "      <td>World</td>\n",
       "      <td>10</td>\n",
       "      <td>NaN</td>\n",
       "      <td>16135</td>\n",
       "    </tr>\n",
       "    <tr>\n",
       "      <th>3</th>\n",
       "      <td>1994</td>\n",
       "      <td>World</td>\n",
       "      <td>42.8</td>\n",
       "      <td>40.2</td>\n",
       "      <td>46.8</td>\n",
       "      <td>21.3</td>\n",
       "      <td>24.7</td>\n",
       "      <td>16.2</td>\n",
       "      <td>35.9</td>\n",
       "      <td>35.2</td>\n",
       "      <td>37.0</td>\n",
       "      <td>World</td>\n",
       "      <td>0</td>\n",
       "      <td>0</td>\n",
       "      <td>World</td>\n",
       "      <td>10</td>\n",
       "      <td>NaN</td>\n",
       "      <td>16350</td>\n",
       "    </tr>\n",
       "  </tbody>\n",
       "</table>\n",
       "</div>"
      ],
      "text/plain": [
       "   Year Region_country  Agriculture  Agriculture_Male  Agriculture_Female  \\\n",
       "0  1991          World         44.5              41.6                48.9   \n",
       "1  1992          World         44.3              41.5                48.7   \n",
       "2  1993          World         43.5              40.8                47.7   \n",
       "3  1994          World         42.8              40.2                46.8   \n",
       "\n",
       "   Industry  Industry_Male  Industry_Female  Services  Services_Male  \\\n",
       "0      21.7           25.0             16.6      33.8           33.4   \n",
       "1      21.5           24.8             16.4      34.2           33.7   \n",
       "2      21.4           24.7             16.3      35.0           34.5   \n",
       "3      21.3           24.7             16.2      35.9           35.2   \n",
       "\n",
       "   Services_Female Region_type  Country_id Country_code Region  Region_id  \\\n",
       "0             34.4       World           0            0  World         10   \n",
       "1             34.9       World           0            0  World         10   \n",
       "2             35.9       World           0            0  World         10   \n",
       "3             37.0       World           0            0  World         10   \n",
       "\n",
       "   GDP_per_Capita  Output_per_worker  \n",
       "0             NaN              16138  \n",
       "1             NaN              16054  \n",
       "2             NaN              16135  \n",
       "3             NaN              16350  "
      ]
     },
     "execution_count": 27,
     "metadata": {},
     "output_type": "execute_result"
    }
   ],
   "source": [
    "data_prod_gdp.ix[:3]"
   ]
  },
  {
   "cell_type": "code",
   "execution_count": 30,
   "metadata": {
    "collapsed": false,
    "deletable": true,
    "editable": true
   },
   "outputs": [],
   "source": [
    "data_prod_gdp_2012=data_prod_gdp[(data_prod_gdp['Year']=='2012')&(data_prod_gdp['Region_type']=='country')].drop(['GDP_per_Capita','Output_per_worker','Country_id','Region_id'],axis=1)"
   ]
  },
  {
   "cell_type": "code",
   "execution_count": 31,
   "metadata": {
    "collapsed": false,
    "deletable": true,
    "editable": true
   },
   "outputs": [
    {
     "data": {
      "text/plain": [
       "<matplotlib.axes._subplots.AxesSubplot at 0x107a73470>"
      ]
     },
     "execution_count": 31,
     "metadata": {},
     "output_type": "execute_result"
    }
   ],
   "source": [
    "data_prod_gdp_2012.plot.box( figsize=(15, 6))"
   ]
  },
  {
   "cell_type": "code",
   "execution_count": 33,
   "metadata": {
    "collapsed": false,
    "deletable": true,
    "editable": true,
    "scrolled": true
   },
   "outputs": [
    {
     "data": {
      "image/png": "[encoded data removed]",
      "text/plain": [
       "<matplotlib.figure.Figure at 0x1073a1ac8>"
      ]
     },
     "metadata": {},
     "output_type": "display_data"
    }
   ],
   "source": [
    "plt.show()"
   ]
  },
  {
   "cell_type": "code",
   "execution_count": 32,
   "metadata": {
    "collapsed": false,
    "deletable": true,
    "editable": true
   },
   "outputs": [
    {
     "data": {
      "text/html": [
       "<div>\n",
       "<table border=\"1\" class=\"dataframe\">\n",
       "  <thead>\n",
       "    <tr style=\"text-align: right;\">\n",
       "      <th></th>\n",
       "      <th>Agriculture</th>\n",
       "      <th>Agriculture_Male</th>\n",
       "      <th>Agriculture_Female</th>\n",
       "      <th>Industry</th>\n",
       "      <th>Industry_Male</th>\n",
       "      <th>Industry_Female</th>\n",
       "      <th>Services</th>\n",
       "      <th>Services_Male</th>\n",
       "      <th>Services_Female</th>\n",
       "    </tr>\n",
       "  </thead>\n",
       "  <tbody>\n",
       "    <tr>\n",
       "      <th>count</th>\n",
       "      <td>178.000000</td>\n",
       "      <td>178.000000</td>\n",
       "      <td>178.000000</td>\n",
       "      <td>178.000000</td>\n",
       "      <td>178.000000</td>\n",
       "      <td>178.000000</td>\n",
       "      <td>178.000000</td>\n",
       "      <td>178.000000</td>\n",
       "      <td>178.000000</td>\n",
       "    </tr>\n",
       "    <tr>\n",
       "      <th>mean</th>\n",
       "      <td>28.305618</td>\n",
       "      <td>28.565169</td>\n",
       "      <td>28.264045</td>\n",
       "      <td>19.031461</td>\n",
       "      <td>24.143820</td>\n",
       "      <td>11.167416</td>\n",
       "      <td>52.664607</td>\n",
       "      <td>47.287079</td>\n",
       "      <td>60.561236</td>\n",
       "    </tr>\n",
       "    <tr>\n",
       "      <th>std</th>\n",
       "      <td>25.077002</td>\n",
       "      <td>23.832166</td>\n",
       "      <td>28.494810</td>\n",
       "      <td>9.293550</td>\n",
       "      <td>11.085665</td>\n",
       "      <td>7.955757</td>\n",
       "      <td>19.693612</td>\n",
       "      <td>16.357679</td>\n",
       "      <td>26.609261</td>\n",
       "    </tr>\n",
       "    <tr>\n",
       "      <th>min</th>\n",
       "      <td>0.000000</td>\n",
       "      <td>0.000000</td>\n",
       "      <td>0.000000</td>\n",
       "      <td>2.000000</td>\n",
       "      <td>3.200000</td>\n",
       "      <td>0.600000</td>\n",
       "      <td>6.000000</td>\n",
       "      <td>9.100000</td>\n",
       "      <td>3.000000</td>\n",
       "    </tr>\n",
       "    <tr>\n",
       "      <th>25%</th>\n",
       "      <td>4.925000</td>\n",
       "      <td>6.375000</td>\n",
       "      <td>2.750000</td>\n",
       "      <td>12.300000</td>\n",
       "      <td>17.025000</td>\n",
       "      <td>5.825000</td>\n",
       "      <td>36.825000</td>\n",
       "      <td>35.950000</td>\n",
       "      <td>37.675000</td>\n",
       "    </tr>\n",
       "    <tr>\n",
       "      <th>50%</th>\n",
       "      <td>20.900000</td>\n",
       "      <td>23.300000</td>\n",
       "      <td>18.250000</td>\n",
       "      <td>19.350000</td>\n",
       "      <td>24.300000</td>\n",
       "      <td>9.400000</td>\n",
       "      <td>54.300000</td>\n",
       "      <td>47.250000</td>\n",
       "      <td>67.600000</td>\n",
       "    </tr>\n",
       "    <tr>\n",
       "      <th>75%</th>\n",
       "      <td>47.300000</td>\n",
       "      <td>47.225000</td>\n",
       "      <td>49.800000</td>\n",
       "      <td>23.475000</td>\n",
       "      <td>30.650000</td>\n",
       "      <td>15.300000</td>\n",
       "      <td>69.025000</td>\n",
       "      <td>59.975000</td>\n",
       "      <td>84.550000</td>\n",
       "    </tr>\n",
       "    <tr>\n",
       "      <th>max</th>\n",
       "      <td>92.000000</td>\n",
       "      <td>87.400000</td>\n",
       "      <td>96.400000</td>\n",
       "      <td>54.900000</td>\n",
       "      <td>58.600000</td>\n",
       "      <td>67.800000</td>\n",
       "      <td>87.800000</td>\n",
       "      <td>80.800000</td>\n",
       "      <td>98.300000</td>\n",
       "    </tr>\n",
       "  </tbody>\n",
       "</table>\n",
       "</div>"
      ],
      "text/plain": [
       "       Agriculture  Agriculture_Male  Agriculture_Female    Industry  \\\n",
       "count   178.000000        178.000000          178.000000  178.000000   \n",
       "mean     28.305618         28.565169           28.264045   19.031461   \n",
       "std      25.077002         23.832166           28.494810    9.293550   \n",
       "min       0.000000          0.000000            0.000000    2.000000   \n",
       "25%       4.925000          6.375000            2.750000   12.300000   \n",
       "50%      20.900000         23.300000           18.250000   19.350000   \n",
       "75%      47.300000         47.225000           49.800000   23.475000   \n",
       "max      92.000000         87.400000           96.400000   54.900000   \n",
       "\n",
       "       Industry_Male  Industry_Female    Services  Services_Male  \\\n",
       "count     178.000000       178.000000  178.000000     178.000000   \n",
       "mean       24.143820        11.167416   52.664607      47.287079   \n",
       "std        11.085665         7.955757   19.693612      16.357679   \n",
       "min         3.200000         0.600000    6.000000       9.100000   \n",
       "25%        17.025000         5.825000   36.825000      35.950000   \n",
       "50%        24.300000         9.400000   54.300000      47.250000   \n",
       "75%        30.650000        15.300000   69.025000      59.975000   \n",
       "max        58.600000        67.800000   87.800000      80.800000   \n",
       "\n",
       "       Services_Female  \n",
       "count       178.000000  \n",
       "mean         60.561236  \n",
       "std          26.609261  \n",
       "min           3.000000  \n",
       "25%          37.675000  \n",
       "50%          67.600000  \n",
       "75%          84.550000  \n",
       "max          98.300000  "
      ]
     },
     "execution_count": 32,
     "metadata": {},
     "output_type": "execute_result"
    }
   ],
   "source": [
    "data_prod_gdp_2012.describe()"
   ]
  },
  {
   "cell_type": "code",
   "execution_count": 309,
   "metadata": {
    "collapsed": false,
    "deletable": true,
    "editable": true
   },
   "outputs": [
    {
     "data": {
      "image/png": "[encoded data removed]",
      "text/plain": [
       "<matplotlib.figure.Figure at 0x10cb07470>"
      ]
     },
     "metadata": {},
     "output_type": "display_data"
    }
   ],
   "source": [
    "ts=data_prod_gdp[data_prod_gdp['Region_country']=='World'][['Year','Agriculture','Services','Industry']]\n",
    "years=ts['Year'].astype(int).tolist()\n",
    "ts=ts.set_index([years])\n",
    "ts.plot(figsize=(10,6),title='World_Share of Employment by Sector')\n",
    "plt.show()"
   ]
  },
  {
   "cell_type": "code",
   "execution_count": 61,
   "metadata": {
    "collapsed": false,
    "deletable": true,
    "editable": true
   },
   "outputs": [
    {
     "data": {
      "text/plain": [
       "<matplotlib.axes._subplots.AxesSubplot at 0x10af1e5c0>"
      ]
     },
     "execution_count": 61,
     "metadata": {},
     "output_type": "execute_result"
    }
   ],
   "source": [
    "data_prod_gdp[(data_prod_gdp['Year']=='2012')].plot.scatter(x='Services',y='GDP_per_Capita', figsize=(6, 6))"
   ]
  },
  {
   "cell_type": "code",
   "execution_count": 62,
   "metadata": {
    "collapsed": false,
    "deletable": true,
    "editable": true
   },
   "outputs": [
    {
     "data": {
      "image/png": "[encoded data removed]",
      "text/plain": [
       "<matplotlib.figure.Figure at 0x10aeeeda0>"
      ]
     },
     "metadata": {},
     "output_type": "display_data"
    }
   ],
   "source": [
    "plt.show()"
   ]
  },
  {
   "cell_type": "code",
   "execution_count": 59,
   "metadata": {
    "collapsed": false,
    "deletable": true,
    "editable": true
   },
   "outputs": [
    {
     "data": {
      "text/plain": [
       "<matplotlib.axes._subplots.AxesSubplot at 0x10ae10da0>"
      ]
     },
     "execution_count": 59,
     "metadata": {},
     "output_type": "execute_result"
    }
   ],
   "source": [
    "data_prod_gdp[(data_prod_gdp['Year']=='2012')].plot.scatter(x='Industry',y='GDP_per_Capita', figsize=(6, 6))"
   ]
  },
  {
   "cell_type": "code",
   "execution_count": 60,
   "metadata": {
    "collapsed": false,
    "deletable": true,
    "editable": true
   },
   "outputs": [
    {
     "data": {
      "image/png": "[encoded data removed]",
      "text/plain": [
       "<matplotlib.figure.Figure at 0x10ae19be0>"
      ]
     },
     "metadata": {},
     "output_type": "display_data"
    }
   ],
   "source": [
    "plt.show()"
   ]
  },
  {
   "cell_type": "code",
   "execution_count": 57,
   "metadata": {
    "collapsed": false,
    "deletable": true,
    "editable": true
   },
   "outputs": [
    {
     "data": {
      "text/plain": [
       "<matplotlib.axes._subplots.AxesSubplot at 0x10ac74438>"
      ]
     },
     "execution_count": 57,
     "metadata": {},
     "output_type": "execute_result"
    }
   ],
   "source": [
    "data_prod_gdp[(data_prod_gdp['Year']=='2012')].plot.scatter(x='Services',y='Output_per_worker', figsize=(6, 6))"
   ]
  },
  {
   "cell_type": "code",
   "execution_count": 58,
   "metadata": {
    "collapsed": false,
    "deletable": true,
    "editable": true
   },
   "outputs": [
    {
     "data": {
      "image/png": "[encoded data removed]",
      "text/plain": [
       "<matplotlib.figure.Figure at 0x10ac5a940>"
      ]
     },
     "metadata": {},
     "output_type": "display_data"
    }
   ],
   "source": [
    "plt.show()"
   ]
  },
  {
   "cell_type": "code",
   "execution_count": 38,
   "metadata": {
    "collapsed": true,
    "deletable": true,
    "editable": true
   },
   "outputs": [],
   "source": [
    "import scipy.stats as stats"
   ]
  },
  {
   "cell_type": "code",
   "execution_count": 39,
   "metadata": {
    "collapsed": false,
    "deletable": true,
    "editable": true
   },
   "outputs": [
    {
     "data": {
      "text/plain": [
       "(0.66965129937611301, 0.0)"
      ]
     },
     "execution_count": 39,
     "metadata": {},
     "output_type": "execute_result"
    }
   ],
   "source": [
    "stats.stats.pearsonr(data_prod_gdp['Services'], data_prod_gdp['Output_per_worker'])"
   ]
  },
  {
   "cell_type": "code",
   "execution_count": 40,
   "metadata": {
    "collapsed": false,
    "deletable": true,
    "editable": true
   },
   "outputs": [
    {
     "data": {
      "text/plain": [
       "(0.32387721143945247, 8.1070597371682162e-129)"
      ]
     },
     "execution_count": 40,
     "metadata": {},
     "output_type": "execute_result"
    }
   ],
   "source": [
    "stats.stats.pearsonr(data_prod_gdp['Industry'], data_prod_gdp['Output_per_worker'])"
   ]
  },
  {
   "cell_type": "code",
   "execution_count": 41,
   "metadata": {
    "collapsed": false,
    "deletable": true,
    "editable": true
   },
   "outputs": [
    {
     "data": {
      "text/plain": [
       "(-0.63412243128972678, 0.0)"
      ]
     },
     "execution_count": 41,
     "metadata": {},
     "output_type": "execute_result"
    }
   ],
   "source": [
    "stats.stats.pearsonr(data_prod_gdp['Agriculture'], data_prod_gdp['Output_per_worker'])"
   ]
  },
  {
   "cell_type": "code",
   "execution_count": 42,
   "metadata": {
    "collapsed": false,
    "deletable": true,
    "editable": true
   },
   "outputs": [],
   "source": [
    "data_prod_gdp_1 = data_prod_gdp.dropna()"
   ]
  },
  {
   "cell_type": "code",
   "execution_count": 43,
   "metadata": {
    "collapsed": false,
    "deletable": true,
    "editable": true
   },
   "outputs": [
    {
     "data": {
      "text/plain": [
       "(0.62659903081981927, 0.0)"
      ]
     },
     "execution_count": 43,
     "metadata": {},
     "output_type": "execute_result"
    }
   ],
   "source": [
    "stats.stats.pearsonr(data_prod_gdp_1['Services'], data_prod_gdp_1['GDP_per_Capita'])"
   ]
  },
  {
   "cell_type": "code",
   "execution_count": 44,
   "metadata": {
    "collapsed": true,
    "deletable": true,
    "editable": true
   },
   "outputs": [],
   "source": [
    "data_prod_gdp.to_csv('data_prod_gdp.csv')"
   ]
  },
  {
   "cell_type": "code",
   "execution_count": 45,
   "metadata": {
    "collapsed": false,
    "deletable": true,
    "editable": true
   },
   "outputs": [
    {
     "data": {
      "text/plain": [
       "(0.91765649186144582, 0.0)"
      ]
     },
     "execution_count": 45,
     "metadata": {},
     "output_type": "execute_result"
    }
   ],
   "source": [
    "stats.stats.pearsonr(data_prod_gdp_1['Output_per_worker'], data_prod_gdp_1['GDP_per_Capita'])"
   ]
  },
  {
   "cell_type": "code",
   "execution_count": 46,
   "metadata": {
    "collapsed": false,
    "deletable": true,
    "editable": true
   },
   "outputs": [],
   "source": [
    "regions=data_prod_gdp[data_prod_gdp['Region_type']== 'Region']['Region'].drop_duplicates()"
   ]
  },
  {
   "cell_type": "code",
   "execution_count": 47,
   "metadata": {
    "collapsed": false,
    "deletable": true,
    "editable": true
   },
   "outputs": [
    {
     "data": {
      "text/plain": [
       "28               Developed Economies & European Union\n",
       "1092    Central & South Eastern Europe (non-EU) & CIS\n",
       "1624                                        East Asia\n",
       "1848                    South East Asia & the Pacific\n",
       "2268                                       South Asia\n",
       "2520                    Latin America & the Caribbean\n",
       "3388                                      Middle East\n",
       "3780                                     North Africa\n",
       "3976                               Sub-Saharan Africa\n",
       "Name: Region, dtype: object"
      ]
     },
     "execution_count": 47,
     "metadata": {},
     "output_type": "execute_result"
    }
   ],
   "source": [
    "regions"
   ]
  },
  {
   "cell_type": "code",
   "execution_count": 48,
   "metadata": {
    "collapsed": false,
    "deletable": true,
    "editable": true
   },
   "outputs": [
    {
     "data": {
      "text/plain": [
       "pandas.core.series.Series"
      ]
     },
     "execution_count": 48,
     "metadata": {},
     "output_type": "execute_result"
    }
   ],
   "source": [
    "type(regions)"
   ]
  },
  {
   "cell_type": "code",
   "execution_count": 49,
   "metadata": {
    "collapsed": false,
    "deletable": true,
    "editable": true,
    "scrolled": true
   },
   "outputs": [
    {
     "name": "stdout",
     "output_type": "stream",
     "text": [
      "Pearson Correlation between share of services sector and output per worker for all countries: \n",
      "Developed Economies & European Union\t(0.72709804916185017, 4.3744914877881772e-171)\n",
      "Central & South Eastern Europe (non-EU) & CIS\t(0.43833623834977992, 4.4417825729078361e-25)\n",
      "East Asia\t(0.90578688547842268, 2.8574744616006861e-74)\n",
      "South East Asia & the Pacific\t(0.86007561877736194, 4.7740048968503959e-116)\n",
      "South Asia\t(0.8643894261510191, 3.1993514623810591e-68)\n",
      "Latin America & the Caribbean\t(0.73138182586336498, 1.8617936879778915e-141)\n",
      "Middle East\t(0.31692346049709474, 6.175103174362043e-10)\n",
      "North Africa\t(0.8663155580403934, 6.4442735059027228e-52)\n",
      "Sub-Saharan Africa\t(0.64299513812556197, 6.4649519761867419e-148)\n"
     ]
    }
   ],
   "source": [
    "print (\"Pearson Correlation between share of services sector and output per worker for all countries: \")\n",
    "for i in regions:\n",
    "    print (i+\"\\t\" + str(stats.stats.pearsonr(\n",
    "    data_prod_gdp[(data_prod_gdp['Region']== i)&(data_prod_gdp['Region_type']== 'country')]['Services'],\n",
    "    data_prod_gdp[(data_prod_gdp['Region']== i)&(data_prod_gdp['Region_type']== 'country')]['Output_per_worker']\n",
    "    )));"
   ]
  },
  {
   "cell_type": "code",
   "execution_count": 50,
   "metadata": {
    "collapsed": false,
    "deletable": true,
    "editable": true
   },
   "outputs": [
    {
     "name": "stdout",
     "output_type": "stream",
     "text": [
      "Pearson Correlation between share of services sector and GDP per capita for all countries: \n",
      "Developed Economies & European Union: \t(0.73173769611649386, 1.692622590165951e-152)\n",
      "Central & South Eastern Europe (non-EU) & CIS: \t(0.52160824158566887, 2.2515326382782326e-31)\n",
      "East Asia: \t(0.76694235937711452, 1.8711753973806137e-25)\n",
      "South East Asia & the Pacific: \t(0.77570925261873436, 2.4194773328622941e-67)\n",
      "South Asia: \t(0.71700985594583511, 2.7654722228803568e-31)\n",
      "Latin America & the Caribbean: \t(0.75613506817498533, 6.3747084463079511e-130)\n",
      "Middle East: \t(0.064862349715926512, 0.26678904304359508)\n",
      "North Africa: \t(0.76793225352498617, 1.1924089656134695e-29)\n",
      "Sub-Saharan Africa: \t(0.53312673564969459, 9.2263513316918716e-80)\n"
     ]
    }
   ],
   "source": [
    "print (\"Pearson Correlation between share of services sector and GDP per capita for all countries: \")\n",
    "for i in regions:\n",
    "    print (i + \": \"+ \"\\t\" + str(stats.stats.pearsonr(\n",
    "    data_prod_gdp_1[(data_prod_gdp_1['Region']== i)&(data_prod_gdp_1['Region_type']== 'country')\n",
    "                    ]['Services'],\n",
    "    data_prod_gdp_1[(data_prod_gdp_1['Region']== i)&(data_prod_gdp_1['Region_type']== 'country')\n",
    "                    ]['GDP_per_Capita']\n",
    "    )));"
   ]
  },
  {
   "cell_type": "code",
   "execution_count": 63,
   "metadata": {
    "collapsed": false,
    "deletable": true,
    "editable": true,
    "scrolled": false
   },
   "outputs": [
    {
     "name": "stdout",
     "output_type": "stream",
     "text": [
      "Developed Economies & European Union: \t(0.70373714107004171, 1.1803745570930352e-06)\n",
      "Central & South Eastern Europe (non-EU) & CIS: \t(0.44851447040469788, 0.061919114911680811)\n",
      "East Asia: \t(0.80826285544387577, 0.097834197542424325)\n",
      "South East Asia & the Pacific: \t(0.84432742143316752, 0.00014564656874747588)\n",
      "South Asia: \t(0.85700485165922136, 0.0065482469476819535)\n",
      "Latin America & the Caribbean: \t(0.83238817820154054, 3.9673431919474906e-08)\n",
      "Middle East: \t(-0.041257608604497044, 0.89869768769750902)\n",
      "North Africa: \t(0.94729338004984709, 0.014410132572606585)\n",
      "Sub-Saharan Africa: \t(0.51866558005456143, 0.00043329901393654745)\n"
     ]
    }
   ],
   "source": [
    "#Pearson Correlation between share of services sector and GDP per capita for all countries in 2012\n",
    "for i in regions:\n",
    "    print (i + \": \"+ \"\\t\" + str(stats.stats.pearsonr(\n",
    "    data_prod_gdp_1[(data_prod_gdp_1['Region']== i)&(data_prod_gdp_1['Region_type']== 'country')\n",
    "                    &(data_prod_gdp_1['Year']== '2012')]['Services'],\n",
    "    data_prod_gdp_1[(data_prod_gdp_1['Region']== i)&(data_prod_gdp_1['Region_type']== 'country')\n",
    "                    &(data_prod_gdp_1['Year']== '2012')]['GDP_per_Capita']\n",
    "    )));\n"
   ]
  },
  {
   "cell_type": "code",
   "execution_count": 101,
   "metadata": {
    "collapsed": false,
    "deletable": true,
    "editable": true
   },
   "outputs": [],
   "source": [
    "#create list for all countries which have valid value for GDP_per_Capita\n",
    "#data_prod_gdp_1 is the df which excludes NA\n",
    "countries=data_prod_gdp_1[data_prod_gdp_1['Region_type']== 'country']['Region_country'].drop_duplicates()"
   ]
  },
  {
   "cell_type": "code",
   "execution_count": 105,
   "metadata": {
    "collapsed": false,
    "deletable": true,
    "editable": true
   },
   "outputs": [],
   "source": [
    "#create a list to take record of the result of Pearson correlation for all contries.\n",
    "result_correlation=[];\n",
    "for i in countries:\n",
    "    item=[]\n",
    "    item.append(i)\n",
    "    item.append(stats.stats.pearsonr(\n",
    "    data_prod_gdp_1[(data_prod_gdp_1['Region_country']== i)]['Services'],\n",
    "    data_prod_gdp_1[(data_prod_gdp_1['Region_country']== i)]['GDP_per_Capita']\n",
    "    ))\n",
    "    result_correlation.append(item)"
   ]
  },
  {
   "cell_type": "code",
   "execution_count": 110,
   "metadata": {
    "collapsed": false,
    "deletable": true,
    "editable": true
   },
   "outputs": [
    {
     "name": "stdout",
     "output_type": "stream",
     "text": [
      "['Bosnia and Herzegovina', (-0.82455502701483951, 2.3652440062225532e-06)]\n",
      "['Georgia', (-0.33622870666734583, 0.10031626879505239)]\n",
      "['Sri Lanka', (-0.15575920247615105, 0.45719090066447088)]\n",
      "['Suriname', (-0.80847702790028897, 1.0104914237888825e-06)]\n",
      "['Trinidad and Tobago', (-0.26982682419138759, 0.19209190893429834)]\n",
      "['Uruguay', (-0.72640960056804149, 3.9314165646607687e-05)]\n",
      "['Bahrain', (-0.41015420385632612, 0.041712723336867721)]\n",
      "['Kuwait', (-0.48095272800967831, 0.02345461162535778)]\n",
      "['Oman', (-0.92371951990554002, 4.6053145853612599e-11)]\n",
      "['Qatar', (-0.91745057527089136, 1.106882489970466e-10)]\n",
      "['Tunisia', (0.018029982881422976, 0.93183110876138719)]\n",
      "['Botswana', (-0.94026160188679897, 3.0072314732033321e-12)]\n",
      "['Central African Republic', (-0.0023818846654299298, 0.99098435140023156)]\n",
      "['Comoros', (-0.62235074943684698, 0.00089372650941170473)]\n",
      "['Eritrea', (-0.33610454115449007, 0.14737460934461258)]\n",
      "['Gambia', (-0.77452151870879138, 5.5146209865297719e-06)]\n",
      "['Ghana', (-0.61654986575818882, 0.0010300225414538709)]\n",
      "['Zambia', (-0.8822507488425978, 5.5049183011055491e-09)]\n",
      "['Zimbabwe', (-0.076271895001828252, 0.7170801640449127)]\n",
      "19\n"
     ]
    }
   ],
   "source": [
    "#print out countries in which two factors have negative correlatlion or results are not siginificant\n",
    "n=0;\n",
    "for i in result_correlation:\n",
    "    \n",
    "    if not ((i[1][0]) >0 and (i[1][0]) > 0.05):\n",
    "        print (i)\n",
    "        n=n+1\n",
    "print (n)"
   ]
  },
  {
   "cell_type": "code",
   "execution_count": 64,
   "metadata": {
    "collapsed": false,
    "deletable": true,
    "editable": true
   },
   "outputs": [
    {
     "name": "stdout",
     "output_type": "stream",
     "text": [
      "Result of checking normality\n",
      "Developed Economies & European Union: \r\n",
      "    Female: (0.8885424137115479, 1.121395050906823e-26)\n",
      "    Male:   (0.9830441474914551, 1.2873282440040157e-09)\n",
      "Central & South Eastern Europe (non-EU) & CIS: \r\n",
      "    Female: (0.9731046557426453, 5.375017764208678e-08)\n",
      "    Male:   (0.9682123064994812, 5.4706337238030756e-09)\n",
      "East Asia: \r\n",
      "    Female: (0.9552223682403564, 7.634224857611116e-06)\n",
      "    Male:   (0.9229676127433777, 1.2609161714749462e-08)\n",
      "South East Asia & the Pacific: \r\n",
      "    Female: (0.9447475075721741, 6.471179148093142e-11)\n",
      "    Male:   (0.905821681022644, 7.0432661507008505e-15)\n",
      "South Asia: \r\n",
      "    Female: (0.7845883965492249, 7.379783817375952e-17)\n",
      "    Male:   (0.9498984813690186, 5.211257416704029e-07)\n",
      "Latin America & the Caribbean: \r\n",
      "    Female: (0.9575536847114563, 7.236779297830568e-15)\n",
      "    Male:   (0.9841598272323608, 6.871498214877647e-08)\n",
      "Middle East: \r\n",
      "    Female: (0.8166248798370361, 4.9222807297820005e-20)\n",
      "    Male:   (0.9586394429206848, 1.3281304944712247e-08)\n",
      "North Africa: \r\n",
      "    Female: (0.9116308689117432, 1.54200634483459e-08)\n",
      "    Male:   (0.8760057091712952, 1.4040819895644319e-10)\n",
      "Sub-Saharan Africa: \r\n",
      "    Female: (0.9404239654541016, 4.3899374788274365e-22)\n",
      "    Male:   (0.9403999447822571, 4.347373826043076e-22)\n"
     ]
    }
   ],
   "source": [
    "print (\"Result of checking normality\")\n",
    "for i in regions:\n",
    "    print (i+\": \"+\"\\r\")\n",
    "    print(\"    Female: \"+str(stats.shapiro(data_prod_gdp[(data_prod_gdp['Region']== i)\n",
    "                                      &(data_prod_gdp['Region_type']== 'country')]['Services_Female'])));\n",
    "    print(\"    Male:   \"+str(stats.shapiro(data_prod_gdp[(data_prod_gdp['Region']== i)\n",
    "                                      &(data_prod_gdp['Region_type']== 'country')]['Services_Male'])));"
   ]
  },
  {
   "cell_type": "code",
   "execution_count": 65,
   "metadata": {
    "collapsed": false,
    "deletable": true,
    "editable": true
   },
   "outputs": [
    {
     "name": "stdout",
     "output_type": "stream",
     "text": [
      "T-test:\n",
      "Developed Economies & European Union: \r\n",
      "      Ttest_indResult(statistic=48.415466526910102, pvalue=0.0)\n",
      "Central & South Eastern Europe (non-EU) & CIS: \r\n",
      "      Ttest_indResult(statistic=11.747576853646446, pvalue=5.9449046660220648e-30)\n",
      "East Asia: \r\n",
      "      Ttest_indResult(statistic=1.5011902351381705, pvalue=0.1341155228009753)\n",
      "South East Asia & the Pacific: \r\n",
      "      Ttest_indResult(statistic=3.5223935324211939, pvalue=0.00045247317278911597)\n",
      "South Asia: \r\n",
      "      Ttest_indResult(statistic=-11.457066236006936, pvalue=8.1379211952349306e-27)\n",
      "Latin America & the Caribbean: \r\n",
      "      Ttest_indResult(statistic=47.254232735482795, pvalue=1.2174553558779953e-310)\n",
      "Middle East: \r\n",
      "      Ttest_indResult(statistic=7.627704712871437, pvalue=7.5107077507402135e-14)\n",
      "North Africa: \r\n",
      "      Ttest_indResult(statistic=3.3183798254330963, pvalue=0.0010052592822607051)\n",
      "Sub-Saharan Africa: \r\n",
      "      Ttest_indResult(statistic=5.0285171170433225, pvalue=5.2905754785498309e-07)\n"
     ]
    }
   ],
   "source": [
    "# T-test between male and female groups for all regions\n",
    "print (\"T-test between male and female group: \")\n",
    "for i in regions:\n",
    "    print (i+\": \"+\"\\r\")\n",
    "    print (\"      \"+str(stats.ttest_ind(data_prod_gdp[(data_prod_gdp['Region']== i)\n",
    "                                      &(data_prod_gdp['Region_type']== 'country')]['Services_Female'],\n",
    "                        data_prod_gdp[(data_prod_gdp['Region']== i)\n",
    "                                      &(data_prod_gdp['Region_type']== 'country')]['Services_Male'])))"
   ]
  },
  {
   "cell_type": "code",
   "execution_count": 67,
   "metadata": {
    "collapsed": false,
    "deletable": true,
    "editable": true
   },
   "outputs": [],
   "source": [
    "n=0\n",
    "CountriesByRegion=[]\n",
    "for i in regions:\n",
    "    list_n=data_prod_gdp[(data_prod_gdp['Region']== i)\n",
    "                                      &(data_prod_gdp['Region_type']== 'Region')]['Services'].values.tolist()\n",
    "    CountriesByRegion.append(list_n)\n",
    "    #print (len(CountriesByRegion[n]))\n",
    "    n=n+1"
   ]
  },
  {
   "cell_type": "code",
   "execution_count": 68,
   "metadata": {
    "collapsed": false,
    "deletable": true,
    "editable": true
   },
   "outputs": [
    {
     "data": {
      "text/plain": [
       "F_onewayResult(statistic=418.33005470064353, pvalue=2.0832428466506956e-137)"
      ]
     },
     "execution_count": 68,
     "metadata": {},
     "output_type": "execute_result"
    }
   ],
   "source": [
    "# one-way Anova test for all regions\n",
    "stats.f_oneway(CountriesByRegion[0],CountriesByRegion[1],CountriesByRegion[2],CountriesByRegion[3],CountriesByRegion[4],\n",
    "               CountriesByRegion[5],CountriesByRegion[6],CountriesByRegion[7],CountriesByRegion[8])"
   ]
  },
  {
   "cell_type": "code",
   "execution_count": 69,
   "metadata": {
    "collapsed": false,
    "deletable": true,
    "editable": true
   },
   "outputs": [
    {
     "data": {
      "text/plain": [
       "F_onewayResult(statistic=24.427276050266464, pvalue=1.0849137239048907e-24)"
      ]
     },
     "execution_count": 69,
     "metadata": {},
     "output_type": "execute_result"
    }
   ],
   "source": [
    "n=0\n",
    "CountriesByRegion=[]\n",
    "for i in regions:\n",
    "    list_n=data_prod_gdp[(data_prod_gdp['Region']== i)\n",
    "            &(data_prod_gdp['Region_type']== 'country')&(data_prod_gdp['Year']== '2012')]['Services'].values.tolist()\n",
    "    CountriesByRegion.append(list_n)\n",
    "    n=n+1\n",
    "stats.f_oneway(CountriesByRegion[0],CountriesByRegion[1],CountriesByRegion[2],CountriesByRegion[3],CountriesByRegion[4],\n",
    "               CountriesByRegion[5],CountriesByRegion[6],CountriesByRegion[7],CountriesByRegion[8])"
   ]
  },
  {
   "cell_type": "code",
   "execution_count": 72,
   "metadata": {
    "collapsed": false,
    "deletable": true,
    "editable": true
   },
   "outputs": [
    {
     "name": "stdout",
     "output_type": "stream",
     "text": [
      "F_onewayResult(statistic=21.481806715821453, pvalue=2.5705632667085296e-22)\n",
      "F_onewayResult(statistic=21.624470768233198, pvalue=1.9566977276165095e-22)\n",
      "F_onewayResult(statistic=22.163639715089182, pvalue=7.030155760809674e-23)\n",
      "F_onewayResult(statistic=22.49473842750967, pvalue=3.7715577289949513e-23)\n",
      "F_onewayResult(statistic=22.491442205105944, pvalue=3.7949291263526209e-23)\n",
      "F_onewayResult(statistic=22.0183085918753, pvalue=9.253018430563009e-23)\n",
      "F_onewayResult(statistic=21.527111249713776, pvalue=2.3569799685282097e-22)\n",
      "F_onewayResult(statistic=21.875010349795176, pvalue=1.2142294691260597e-22)\n",
      "F_onewayResult(statistic=22.085335899789769, pvalue=8.1509213825863577e-23)\n",
      "F_onewayResult(statistic=22.418131167118638, pvalue=4.3543480076763485e-23)\n",
      "F_onewayResult(statistic=22.420466432111922, pvalue=4.3353021383502485e-23)\n",
      "F_onewayResult(statistic=22.582493183354849, pvalue=3.2001016346586797e-23)\n",
      "F_onewayResult(statistic=22.927354590771518, pvalue=1.682813384834551e-23)\n",
      "F_onewayResult(statistic=22.730325753445179, pvalue=2.428050445768855e-23)\n",
      "F_onewayResult(statistic=22.145729746262198, pvalue=7.2719185702258885e-23)\n",
      "F_onewayResult(statistic=22.471138840609392, pvalue=3.9421529125972515e-23)\n",
      "F_onewayResult(statistic=22.163205640391585, pvalue=7.035918015518691e-23)\n",
      "F_onewayResult(statistic=22.107541487412448, pvalue=7.8158791172028794e-23)\n",
      "F_onewayResult(statistic=23.081762765667857, pvalue=1.2639280429043702e-23)\n",
      "F_onewayResult(statistic=23.946564722746096, pvalue=2.5877262118755991e-24)\n",
      "F_onewayResult(statistic=24.282569350070585, pvalue=1.4081311503139933e-24)\n",
      "F_onewayResult(statistic=24.427276050266464, pvalue=1.0849137239048907e-24)\n",
      "F_onewayResult(statistic=24.156527519306898, pvalue=1.7683218364187355e-24)\n",
      "F_onewayResult(statistic=23.991428402068745, pvalue=2.3852006728814683e-24)\n",
      "F_onewayResult(statistic=23.866195905126201, pvalue=2.995056805664241e-24)\n",
      "F_onewayResult(statistic=23.717481843560499, pvalue=3.9279187774145635e-24)\n",
      "F_onewayResult(statistic=23.616376569971546, pvalue=4.7253217816434085e-24)\n"
     ]
    }
   ],
   "source": [
    "# one-way Anova test for all regions from 1991 to 2018\n",
    "for m in range(1991,2018):\n",
    "    n=0\n",
    "    CountriesByRegion=[]\n",
    "    for i in regions:\n",
    "        list_n=data_prod_gdp[(data_prod_gdp['Region']== i)\n",
    "                &(data_prod_gdp['Region_type']== 'country')&(data_prod_gdp['Year']== str(m))]['Services'].values.tolist()\n",
    "        CountriesByRegion.append(list_n)\n",
    "#         print (len(CountriesByRegion[n]))\n",
    "        n=n+1\n",
    "    print (stats.f_oneway(CountriesByRegion[0],CountriesByRegion[1],CountriesByRegion[2],CountriesByRegion[3],CountriesByRegion[4],\n",
    "                   CountriesByRegion[5],CountriesByRegion[6],CountriesByRegion[7],CountriesByRegion[8]))"
   ]
  },
  {
   "cell_type": "code",
   "execution_count": 428,
   "metadata": {
    "collapsed": false,
    "deletable": true,
    "editable": true
   },
   "outputs": [
    {
     "data": {
      "text/html": [
       "<div>\n",
       "<table border=\"1\" class=\"dataframe\">\n",
       "  <thead>\n",
       "    <tr style=\"text-align: right;\">\n",
       "      <th></th>\n",
       "      <th>Year</th>\n",
       "      <th>Region_country</th>\n",
       "      <th>Agriculture</th>\n",
       "      <th>Agriculture_Male</th>\n",
       "      <th>Agriculture_Female</th>\n",
       "      <th>Industry</th>\n",
       "      <th>Industry_Male</th>\n",
       "      <th>Industry_Female</th>\n",
       "      <th>Services</th>\n",
       "      <th>Services_Male</th>\n",
       "      <th>Services_Female</th>\n",
       "      <th>Region_type</th>\n",
       "      <th>Country_id</th>\n",
       "      <th>Country_code</th>\n",
       "      <th>Region</th>\n",
       "      <th>Region_id</th>\n",
       "      <th>GDP_per_Capita</th>\n",
       "      <th>Output_per_worker</th>\n",
       "    </tr>\n",
       "  </thead>\n",
       "  <tbody>\n",
       "    <tr>\n",
       "      <th>0</th>\n",
       "      <td>1991</td>\n",
       "      <td>World</td>\n",
       "      <td>44.5</td>\n",
       "      <td>41.6</td>\n",
       "      <td>48.9</td>\n",
       "      <td>21.7</td>\n",
       "      <td>25.0</td>\n",
       "      <td>16.6</td>\n",
       "      <td>33.8</td>\n",
       "      <td>33.4</td>\n",
       "      <td>34.4</td>\n",
       "      <td>World</td>\n",
       "      <td>0</td>\n",
       "      <td>0</td>\n",
       "      <td>World</td>\n",
       "      <td>10</td>\n",
       "      <td>NaN</td>\n",
       "      <td>16138</td>\n",
       "    </tr>\n",
       "    <tr>\n",
       "      <th>1</th>\n",
       "      <td>1992</td>\n",
       "      <td>World</td>\n",
       "      <td>44.3</td>\n",
       "      <td>41.5</td>\n",
       "      <td>48.7</td>\n",
       "      <td>21.5</td>\n",
       "      <td>24.8</td>\n",
       "      <td>16.4</td>\n",
       "      <td>34.2</td>\n",
       "      <td>33.7</td>\n",
       "      <td>34.9</td>\n",
       "      <td>World</td>\n",
       "      <td>0</td>\n",
       "      <td>0</td>\n",
       "      <td>World</td>\n",
       "      <td>10</td>\n",
       "      <td>NaN</td>\n",
       "      <td>16054</td>\n",
       "    </tr>\n",
       "    <tr>\n",
       "      <th>2</th>\n",
       "      <td>1993</td>\n",
       "      <td>World</td>\n",
       "      <td>43.5</td>\n",
       "      <td>40.8</td>\n",
       "      <td>47.7</td>\n",
       "      <td>21.4</td>\n",
       "      <td>24.7</td>\n",
       "      <td>16.3</td>\n",
       "      <td>35.0</td>\n",
       "      <td>34.5</td>\n",
       "      <td>35.9</td>\n",
       "      <td>World</td>\n",
       "      <td>0</td>\n",
       "      <td>0</td>\n",
       "      <td>World</td>\n",
       "      <td>10</td>\n",
       "      <td>NaN</td>\n",
       "      <td>16135</td>\n",
       "    </tr>\n",
       "    <tr>\n",
       "      <th>3</th>\n",
       "      <td>1994</td>\n",
       "      <td>World</td>\n",
       "      <td>42.8</td>\n",
       "      <td>40.2</td>\n",
       "      <td>46.8</td>\n",
       "      <td>21.3</td>\n",
       "      <td>24.7</td>\n",
       "      <td>16.2</td>\n",
       "      <td>35.9</td>\n",
       "      <td>35.2</td>\n",
       "      <td>37.0</td>\n",
       "      <td>World</td>\n",
       "      <td>0</td>\n",
       "      <td>0</td>\n",
       "      <td>World</td>\n",
       "      <td>10</td>\n",
       "      <td>NaN</td>\n",
       "      <td>16350</td>\n",
       "    </tr>\n",
       "  </tbody>\n",
       "</table>\n",
       "</div>"
      ],
      "text/plain": [
       "   Year Region_country  Agriculture  Agriculture_Male  Agriculture_Female  \\\n",
       "0  1991          World         44.5              41.6                48.9   \n",
       "1  1992          World         44.3              41.5                48.7   \n",
       "2  1993          World         43.5              40.8                47.7   \n",
       "3  1994          World         42.8              40.2                46.8   \n",
       "\n",
       "   Industry  Industry_Male  Industry_Female  Services  Services_Male  \\\n",
       "0      21.7           25.0             16.6      33.8           33.4   \n",
       "1      21.5           24.8             16.4      34.2           33.7   \n",
       "2      21.4           24.7             16.3      35.0           34.5   \n",
       "3      21.3           24.7             16.2      35.9           35.2   \n",
       "\n",
       "   Services_Female Region_type  Country_id Country_code Region  Region_id  \\\n",
       "0             34.4       World           0            0  World         10   \n",
       "1             34.9       World           0            0  World         10   \n",
       "2             35.9       World           0            0  World         10   \n",
       "3             37.0       World           0            0  World         10   \n",
       "\n",
       "   GDP_per_Capita  Output_per_worker  \n",
       "0             NaN              16138  \n",
       "1             NaN              16054  \n",
       "2             NaN              16135  \n",
       "3             NaN              16350  "
      ]
     },
     "execution_count": 428,
     "metadata": {},
     "output_type": "execute_result"
    }
   ],
   "source": [
    "data_prod_gdp.ix[:3]"
   ]
  },
  {
   "cell_type": "code",
   "execution_count": 502,
   "metadata": {
    "collapsed": false,
    "deletable": true,
    "editable": true
   },
   "outputs": [],
   "source": [
    "ShareOfServices1=data_prod_gdp.drop(['GDP_per_Capita','Output_per_worker'],axis=1)"
   ]
  },
  {
   "cell_type": "code",
   "execution_count": 503,
   "metadata": {
    "collapsed": true,
    "deletable": true,
    "editable": true
   },
   "outputs": [],
   "source": [
    "ShareOfServicesA=data_prod_gdp.drop(['Industry','Industry_Male','Industry_Female',\n",
    "                                     'Services','Services_Male','Services_Female'],axis=1)"
   ]
  },
  {
   "cell_type": "code",
   "execution_count": 504,
   "metadata": {
    "collapsed": false,
    "deletable": true,
    "editable": true
   },
   "outputs": [
    {
     "name": "stdout",
     "output_type": "stream",
     "text": [
      "Index(['Year', 'Region_country', 'Agriculture', 'Agriculture_Male',\n",
      "       'Agriculture_Female', 'Region_type', 'Country_id', 'Country_code',\n",
      "       'Region', 'Region_id'],\n",
      "      dtype='object')\n"
     ]
    }
   ],
   "source": [
    "print(ShareOfServicesA.columns)"
   ]
  },
  {
   "cell_type": "code",
   "execution_count": 505,
   "metadata": {
    "collapsed": true,
    "deletable": true,
    "editable": true
   },
   "outputs": [],
   "source": [
    "ShareOfServicesI=ShareOfServices1.drop(['Agriculture','Agriculture_Male','Agriculture_Female',\n",
    "                                     'Services','Services_Male','Services_Female'],axis=1);\n",
    "ShareOfServicesS=ShareOfServices1.drop(['Agriculture','Agriculture_Male','Agriculture_Female',\n",
    "                                     'Industry','Industry_Male','Industry_Female'],axis=1);"
   ]
  },
  {
   "cell_type": "code",
   "execution_count": 506,
   "metadata": {
    "collapsed": false,
    "deletable": true,
    "editable": true
   },
   "outputs": [
    {
     "name": "stdout",
     "output_type": "stream",
     "text": [
      "Index(['Year', 'Region_country', 'Industry', 'Industry_Male',\n",
      "       'Industry_Female', 'Region_type', 'Country_id', 'Country_code',\n",
      "       'Region', 'Region_id'],\n",
      "      dtype='object')\n"
     ]
    }
   ],
   "source": [
    "print(ShareOfServicesI.columns)"
   ]
  },
  {
   "cell_type": "code",
   "execution_count": 507,
   "metadata": {
    "collapsed": false,
    "deletable": true,
    "editable": true
   },
   "outputs": [
    {
     "name": "stdout",
     "output_type": "stream",
     "text": [
      "Index(['Year', 'Region_country', 'Services', 'Services_Male',\n",
      "       'Services_Female', 'Region_type', 'Country_id', 'Country_code',\n",
      "       'Region', 'Region_id'],\n",
      "      dtype='object')\n"
     ]
    }
   ],
   "source": [
    "print(ShareOfServicesS.columns)"
   ]
  },
  {
   "cell_type": "code",
   "execution_count": 508,
   "metadata": {
    "collapsed": false,
    "deletable": true,
    "editable": true
   },
   "outputs": [],
   "source": [
    "ShareOfServicesS=ShareOfServicesS.rename(columns={'Services': \"Total\", 'Services_Male': \"Male\", 'Services_Female': \"Female\"})"
   ]
  },
  {
   "cell_type": "code",
   "execution_count": 509,
   "metadata": {
    "collapsed": false,
    "deletable": true,
    "editable": true
   },
   "outputs": [
    {
     "data": {
      "text/html": [
       "<div>\n",
       "<table border=\"1\" class=\"dataframe\">\n",
       "  <thead>\n",
       "    <tr style=\"text-align: right;\">\n",
       "      <th></th>\n",
       "      <th>Year</th>\n",
       "      <th>Region_country</th>\n",
       "      <th>Category</th>\n",
       "      <th>Total</th>\n",
       "      <th>Male</th>\n",
       "      <th>Female</th>\n",
       "      <th>Region_type</th>\n",
       "      <th>Country_id</th>\n",
       "      <th>Country_code</th>\n",
       "      <th>Region</th>\n",
       "      <th>Region_id</th>\n",
       "    </tr>\n",
       "  </thead>\n",
       "  <tbody>\n",
       "    <tr>\n",
       "      <th>0</th>\n",
       "      <td>1991</td>\n",
       "      <td>World</td>\n",
       "      <td>Services</td>\n",
       "      <td>33.8</td>\n",
       "      <td>33.4</td>\n",
       "      <td>34.4</td>\n",
       "      <td>World</td>\n",
       "      <td>0</td>\n",
       "      <td>0</td>\n",
       "      <td>World</td>\n",
       "      <td>10</td>\n",
       "    </tr>\n",
       "    <tr>\n",
       "      <th>1</th>\n",
       "      <td>1992</td>\n",
       "      <td>World</td>\n",
       "      <td>Services</td>\n",
       "      <td>34.2</td>\n",
       "      <td>33.7</td>\n",
       "      <td>34.9</td>\n",
       "      <td>World</td>\n",
       "      <td>0</td>\n",
       "      <td>0</td>\n",
       "      <td>World</td>\n",
       "      <td>10</td>\n",
       "    </tr>\n",
       "    <tr>\n",
       "      <th>2</th>\n",
       "      <td>1993</td>\n",
       "      <td>World</td>\n",
       "      <td>Services</td>\n",
       "      <td>35.0</td>\n",
       "      <td>34.5</td>\n",
       "      <td>35.9</td>\n",
       "      <td>World</td>\n",
       "      <td>0</td>\n",
       "      <td>0</td>\n",
       "      <td>World</td>\n",
       "      <td>10</td>\n",
       "    </tr>\n",
       "    <tr>\n",
       "      <th>3</th>\n",
       "      <td>1994</td>\n",
       "      <td>World</td>\n",
       "      <td>Services</td>\n",
       "      <td>35.9</td>\n",
       "      <td>35.2</td>\n",
       "      <td>37.0</td>\n",
       "      <td>World</td>\n",
       "      <td>0</td>\n",
       "      <td>0</td>\n",
       "      <td>World</td>\n",
       "      <td>10</td>\n",
       "    </tr>\n",
       "  </tbody>\n",
       "</table>\n",
       "</div>"
      ],
      "text/plain": [
       "   Year Region_country  Category  Total  Male  Female Region_type  Country_id  \\\n",
       "0  1991          World  Services   33.8  33.4    34.4       World           0   \n",
       "1  1992          World  Services   34.2  33.7    34.9       World           0   \n",
       "2  1993          World  Services   35.0  34.5    35.9       World           0   \n",
       "3  1994          World  Services   35.9  35.2    37.0       World           0   \n",
       "\n",
       "  Country_code Region  Region_id  \n",
       "0            0  World         10  \n",
       "1            0  World         10  \n",
       "2            0  World         10  \n",
       "3            0  World         10  "
      ]
     },
     "execution_count": 509,
     "metadata": {},
     "output_type": "execute_result"
    }
   ],
   "source": [
    "ShareOfServicesS.insert(2, \"Category\", \"Services\")\n",
    "ShareOfServicesS.ix[:3]"
   ]
  },
  {
   "cell_type": "code",
   "execution_count": 510,
   "metadata": {
    "collapsed": false,
    "deletable": true,
    "editable": true
   },
   "outputs": [
    {
     "data": {
      "text/html": [
       "<div>\n",
       "<table border=\"1\" class=\"dataframe\">\n",
       "  <thead>\n",
       "    <tr style=\"text-align: right;\">\n",
       "      <th></th>\n",
       "      <th>Year</th>\n",
       "      <th>Region_country</th>\n",
       "      <th>Category</th>\n",
       "      <th>Total</th>\n",
       "      <th>Male</th>\n",
       "      <th>Female</th>\n",
       "      <th>Region_type</th>\n",
       "      <th>Country_id</th>\n",
       "      <th>Country_code</th>\n",
       "      <th>Region</th>\n",
       "      <th>Region_id</th>\n",
       "    </tr>\n",
       "  </thead>\n",
       "  <tbody>\n",
       "    <tr>\n",
       "      <th>0</th>\n",
       "      <td>1991</td>\n",
       "      <td>World</td>\n",
       "      <td>Industry</td>\n",
       "      <td>21.7</td>\n",
       "      <td>25.0</td>\n",
       "      <td>16.6</td>\n",
       "      <td>World</td>\n",
       "      <td>0</td>\n",
       "      <td>0</td>\n",
       "      <td>World</td>\n",
       "      <td>10</td>\n",
       "    </tr>\n",
       "    <tr>\n",
       "      <th>1</th>\n",
       "      <td>1992</td>\n",
       "      <td>World</td>\n",
       "      <td>Industry</td>\n",
       "      <td>21.5</td>\n",
       "      <td>24.8</td>\n",
       "      <td>16.4</td>\n",
       "      <td>World</td>\n",
       "      <td>0</td>\n",
       "      <td>0</td>\n",
       "      <td>World</td>\n",
       "      <td>10</td>\n",
       "    </tr>\n",
       "    <tr>\n",
       "      <th>2</th>\n",
       "      <td>1993</td>\n",
       "      <td>World</td>\n",
       "      <td>Industry</td>\n",
       "      <td>21.4</td>\n",
       "      <td>24.7</td>\n",
       "      <td>16.3</td>\n",
       "      <td>World</td>\n",
       "      <td>0</td>\n",
       "      <td>0</td>\n",
       "      <td>World</td>\n",
       "      <td>10</td>\n",
       "    </tr>\n",
       "    <tr>\n",
       "      <th>3</th>\n",
       "      <td>1994</td>\n",
       "      <td>World</td>\n",
       "      <td>Industry</td>\n",
       "      <td>21.3</td>\n",
       "      <td>24.7</td>\n",
       "      <td>16.2</td>\n",
       "      <td>World</td>\n",
       "      <td>0</td>\n",
       "      <td>0</td>\n",
       "      <td>World</td>\n",
       "      <td>10</td>\n",
       "    </tr>\n",
       "  </tbody>\n",
       "</table>\n",
       "</div>"
      ],
      "text/plain": [
       "   Year Region_country  Category  Total  Male  Female Region_type  Country_id  \\\n",
       "0  1991          World  Industry   21.7  25.0    16.6       World           0   \n",
       "1  1992          World  Industry   21.5  24.8    16.4       World           0   \n",
       "2  1993          World  Industry   21.4  24.7    16.3       World           0   \n",
       "3  1994          World  Industry   21.3  24.7    16.2       World           0   \n",
       "\n",
       "  Country_code Region  Region_id  \n",
       "0            0  World         10  \n",
       "1            0  World         10  \n",
       "2            0  World         10  \n",
       "3            0  World         10  "
      ]
     },
     "execution_count": 510,
     "metadata": {},
     "output_type": "execute_result"
    }
   ],
   "source": [
    "ShareOfServicesI=ShareOfServicesI.rename(columns={'Industry': \"Total\", \n",
    "                                                  'Industry_Male': \"Male\", \n",
    "                                                  'Industry_Female': \"Female\"});\n",
    "ShareOfServicesI.insert(2, \"Category\", \"Industry\")\n",
    "ShareOfServicesI.ix[:3]\n"
   ]
  },
  {
   "cell_type": "code",
   "execution_count": 511,
   "metadata": {
    "collapsed": false,
    "deletable": true,
    "editable": true
   },
   "outputs": [
    {
     "data": {
      "text/html": [
       "<div>\n",
       "<table border=\"1\" class=\"dataframe\">\n",
       "  <thead>\n",
       "    <tr style=\"text-align: right;\">\n",
       "      <th></th>\n",
       "      <th>Year</th>\n",
       "      <th>Region_country</th>\n",
       "      <th>Category</th>\n",
       "      <th>Total</th>\n",
       "      <th>Male</th>\n",
       "      <th>Female</th>\n",
       "      <th>Region_type</th>\n",
       "      <th>Country_id</th>\n",
       "      <th>Country_code</th>\n",
       "      <th>Region</th>\n",
       "      <th>Region_id</th>\n",
       "    </tr>\n",
       "  </thead>\n",
       "  <tbody>\n",
       "    <tr>\n",
       "      <th>0</th>\n",
       "      <td>1991</td>\n",
       "      <td>World</td>\n",
       "      <td>Agriculture</td>\n",
       "      <td>44.5</td>\n",
       "      <td>41.6</td>\n",
       "      <td>48.9</td>\n",
       "      <td>World</td>\n",
       "      <td>0</td>\n",
       "      <td>0</td>\n",
       "      <td>World</td>\n",
       "      <td>10</td>\n",
       "    </tr>\n",
       "    <tr>\n",
       "      <th>1</th>\n",
       "      <td>1992</td>\n",
       "      <td>World</td>\n",
       "      <td>Agriculture</td>\n",
       "      <td>44.3</td>\n",
       "      <td>41.5</td>\n",
       "      <td>48.7</td>\n",
       "      <td>World</td>\n",
       "      <td>0</td>\n",
       "      <td>0</td>\n",
       "      <td>World</td>\n",
       "      <td>10</td>\n",
       "    </tr>\n",
       "    <tr>\n",
       "      <th>2</th>\n",
       "      <td>1993</td>\n",
       "      <td>World</td>\n",
       "      <td>Agriculture</td>\n",
       "      <td>43.5</td>\n",
       "      <td>40.8</td>\n",
       "      <td>47.7</td>\n",
       "      <td>World</td>\n",
       "      <td>0</td>\n",
       "      <td>0</td>\n",
       "      <td>World</td>\n",
       "      <td>10</td>\n",
       "    </tr>\n",
       "    <tr>\n",
       "      <th>3</th>\n",
       "      <td>1994</td>\n",
       "      <td>World</td>\n",
       "      <td>Agriculture</td>\n",
       "      <td>42.8</td>\n",
       "      <td>40.2</td>\n",
       "      <td>46.8</td>\n",
       "      <td>World</td>\n",
       "      <td>0</td>\n",
       "      <td>0</td>\n",
       "      <td>World</td>\n",
       "      <td>10</td>\n",
       "    </tr>\n",
       "  </tbody>\n",
       "</table>\n",
       "</div>"
      ],
      "text/plain": [
       "   Year Region_country     Category  Total  Male  Female Region_type  \\\n",
       "0  1991          World  Agriculture   44.5  41.6    48.9       World   \n",
       "1  1992          World  Agriculture   44.3  41.5    48.7       World   \n",
       "2  1993          World  Agriculture   43.5  40.8    47.7       World   \n",
       "3  1994          World  Agriculture   42.8  40.2    46.8       World   \n",
       "\n",
       "   Country_id Country_code Region  Region_id  \n",
       "0           0            0  World         10  \n",
       "1           0            0  World         10  \n",
       "2           0            0  World         10  \n",
       "3           0            0  World         10  "
      ]
     },
     "execution_count": 511,
     "metadata": {},
     "output_type": "execute_result"
    }
   ],
   "source": [
    "ShareOfServicesA=ShareOfServicesA.rename(columns={'Agriculture': \"Total\", \n",
    "                                                  'Agriculture_Male': \"Male\", \n",
    "                                                  'Agriculture_Female': \"Female\"});\n",
    "ShareOfServicesA.insert(2, \"Category\", \"Agriculture\")\n",
    "ShareOfServicesA.ix[:3]"
   ]
  },
  {
   "cell_type": "code",
   "execution_count": 477,
   "metadata": {
    "collapsed": false,
    "deletable": true,
    "editable": true,
    "scrolled": true
   },
   "outputs": [
    {
     "data": {
      "text/html": [
       "<div>\n",
       "<table border=\"1\" class=\"dataframe\">\n",
       "  <thead>\n",
       "    <tr style=\"text-align: right;\">\n",
       "      <th></th>\n",
       "      <th>Year</th>\n",
       "      <th>Region_country</th>\n",
       "      <th>Category</th>\n",
       "      <th>Total</th>\n",
       "      <th>Male</th>\n",
       "      <th>Female</th>\n",
       "      <th>Region_type</th>\n",
       "      <th>Country_id</th>\n",
       "      <th>Country_code</th>\n",
       "      <th>Region</th>\n",
       "      <th>Region_id</th>\n",
       "    </tr>\n",
       "  </thead>\n",
       "  <tbody>\n",
       "    <tr>\n",
       "      <th>0</th>\n",
       "      <td>1991</td>\n",
       "      <td>World</td>\n",
       "      <td>Agriculture</td>\n",
       "      <td>44.5</td>\n",
       "      <td>41.6</td>\n",
       "      <td>48.9</td>\n",
       "      <td>World</td>\n",
       "      <td>0</td>\n",
       "      <td>0</td>\n",
       "      <td>World</td>\n",
       "      <td>10</td>\n",
       "    </tr>\n",
       "    <tr>\n",
       "      <th>1</th>\n",
       "      <td>1992</td>\n",
       "      <td>World</td>\n",
       "      <td>Agriculture</td>\n",
       "      <td>44.3</td>\n",
       "      <td>41.5</td>\n",
       "      <td>48.7</td>\n",
       "      <td>World</td>\n",
       "      <td>0</td>\n",
       "      <td>0</td>\n",
       "      <td>World</td>\n",
       "      <td>10</td>\n",
       "    </tr>\n",
       "  </tbody>\n",
       "</table>\n",
       "</div>"
      ],
      "text/plain": [
       "   Year Region_country     Category  Total  Male  Female Region_type  \\\n",
       "0  1991          World  Agriculture   44.5  41.6    48.9       World   \n",
       "1  1992          World  Agriculture   44.3  41.5    48.7       World   \n",
       "\n",
       "   Country_id Country_code Region  Region_id  \n",
       "0           0            0  World         10  \n",
       "1           0            0  World         10  "
      ]
     },
     "execution_count": 477,
     "metadata": {},
     "output_type": "execute_result"
    }
   ],
   "source": [
    "ShareOfServicesA.ix[:1]"
   ]
  },
  {
   "cell_type": "code",
   "execution_count": 478,
   "metadata": {
    "collapsed": false,
    "deletable": true,
    "editable": true
   },
   "outputs": [
    {
     "data": {
      "text/html": [
       "<div>\n",
       "<table border=\"1\" class=\"dataframe\">\n",
       "  <thead>\n",
       "    <tr style=\"text-align: right;\">\n",
       "      <th></th>\n",
       "      <th>Year</th>\n",
       "      <th>Region_country</th>\n",
       "      <th>Category</th>\n",
       "      <th>Total</th>\n",
       "      <th>Male</th>\n",
       "      <th>Female</th>\n",
       "      <th>Region_type</th>\n",
       "      <th>Country_id</th>\n",
       "      <th>Country_code</th>\n",
       "      <th>Region</th>\n",
       "      <th>Region_id</th>\n",
       "    </tr>\n",
       "  </thead>\n",
       "  <tbody>\n",
       "    <tr>\n",
       "      <th>0</th>\n",
       "      <td>1991</td>\n",
       "      <td>World</td>\n",
       "      <td>Industry</td>\n",
       "      <td>21.7</td>\n",
       "      <td>25.0</td>\n",
       "      <td>16.6</td>\n",
       "      <td>World</td>\n",
       "      <td>0</td>\n",
       "      <td>0</td>\n",
       "      <td>World</td>\n",
       "      <td>10</td>\n",
       "    </tr>\n",
       "    <tr>\n",
       "      <th>1</th>\n",
       "      <td>1992</td>\n",
       "      <td>World</td>\n",
       "      <td>Industry</td>\n",
       "      <td>21.5</td>\n",
       "      <td>24.8</td>\n",
       "      <td>16.4</td>\n",
       "      <td>World</td>\n",
       "      <td>0</td>\n",
       "      <td>0</td>\n",
       "      <td>World</td>\n",
       "      <td>10</td>\n",
       "    </tr>\n",
       "  </tbody>\n",
       "</table>\n",
       "</div>"
      ],
      "text/plain": [
       "   Year Region_country  Category  Total  Male  Female Region_type  Country_id  \\\n",
       "0  1991          World  Industry   21.7  25.0    16.6       World           0   \n",
       "1  1992          World  Industry   21.5  24.8    16.4       World           0   \n",
       "\n",
       "  Country_code Region  Region_id  \n",
       "0            0  World         10  \n",
       "1            0  World         10  "
      ]
     },
     "execution_count": 478,
     "metadata": {},
     "output_type": "execute_result"
    }
   ],
   "source": [
    "ShareOfServicesI.ix[:1]"
   ]
  },
  {
   "cell_type": "code",
   "execution_count": 483,
   "metadata": {
    "collapsed": false,
    "deletable": true,
    "editable": true,
    "scrolled": false
   },
   "outputs": [
    {
     "data": {
      "text/html": [
       "<div>\n",
       "<table border=\"1\" class=\"dataframe\">\n",
       "  <thead>\n",
       "    <tr style=\"text-align: right;\">\n",
       "      <th></th>\n",
       "      <th>Year</th>\n",
       "      <th>Region_country</th>\n",
       "      <th>Category</th>\n",
       "      <th>Total</th>\n",
       "      <th>Male</th>\n",
       "      <th>Female</th>\n",
       "      <th>Region_type</th>\n",
       "      <th>Country_id</th>\n",
       "      <th>Country_code</th>\n",
       "      <th>Region</th>\n",
       "      <th>Region_id</th>\n",
       "    </tr>\n",
       "  </thead>\n",
       "  <tbody>\n",
       "    <tr>\n",
       "      <th>0</th>\n",
       "      <td>1991</td>\n",
       "      <td>World</td>\n",
       "      <td>Services</td>\n",
       "      <td>33.8</td>\n",
       "      <td>33.4</td>\n",
       "      <td>34.4</td>\n",
       "      <td>World</td>\n",
       "      <td>0</td>\n",
       "      <td>0</td>\n",
       "      <td>World</td>\n",
       "      <td>10</td>\n",
       "    </tr>\n",
       "    <tr>\n",
       "      <th>1</th>\n",
       "      <td>1992</td>\n",
       "      <td>World</td>\n",
       "      <td>Services</td>\n",
       "      <td>34.2</td>\n",
       "      <td>33.7</td>\n",
       "      <td>34.9</td>\n",
       "      <td>World</td>\n",
       "      <td>0</td>\n",
       "      <td>0</td>\n",
       "      <td>World</td>\n",
       "      <td>10</td>\n",
       "    </tr>\n",
       "  </tbody>\n",
       "</table>\n",
       "</div>"
      ],
      "text/plain": [
       "   Year Region_country  Category  Total  Male  Female Region_type  Country_id  \\\n",
       "0  1991          World  Services   33.8  33.4    34.4       World           0   \n",
       "1  1992          World  Services   34.2  33.7    34.9       World           0   \n",
       "\n",
       "  Country_code Region  Region_id  \n",
       "0            0  World         10  \n",
       "1            0  World         10  "
      ]
     },
     "execution_count": 483,
     "metadata": {},
     "output_type": "execute_result"
    }
   ],
   "source": [
    "ShareOfServicesS.ix[:1]"
   ]
  },
  {
   "cell_type": "code",
   "execution_count": 484,
   "metadata": {
    "collapsed": false,
    "deletable": true,
    "editable": true
   },
   "outputs": [
    {
     "data": {
      "text/html": [
       "<div>\n",
       "<table border=\"1\" class=\"dataframe\">\n",
       "  <thead>\n",
       "    <tr style=\"text-align: right;\">\n",
       "      <th></th>\n",
       "      <th>Total</th>\n",
       "      <th>Male</th>\n",
       "      <th>Female</th>\n",
       "      <th>Country_id</th>\n",
       "      <th>Region_id</th>\n",
       "    </tr>\n",
       "  </thead>\n",
       "  <tbody>\n",
       "    <tr>\n",
       "      <th>count</th>\n",
       "      <td>5264.000000</td>\n",
       "      <td>5264.000000</td>\n",
       "      <td>5264.000000</td>\n",
       "      <td>5264.000000</td>\n",
       "      <td>5264.000000</td>\n",
       "    </tr>\n",
       "    <tr>\n",
       "      <th>mean</th>\n",
       "      <td>49.265843</td>\n",
       "      <td>44.600627</td>\n",
       "      <td>56.274563</td>\n",
       "      <td>397.909574</td>\n",
       "      <td>4.787234</td>\n",
       "    </tr>\n",
       "    <tr>\n",
       "      <th>std</th>\n",
       "      <td>19.365789</td>\n",
       "      <td>16.051599</td>\n",
       "      <td>26.550811</td>\n",
       "      <td>261.518947</td>\n",
       "      <td>3.092399</td>\n",
       "    </tr>\n",
       "    <tr>\n",
       "      <th>min</th>\n",
       "      <td>5.700000</td>\n",
       "      <td>5.300000</td>\n",
       "      <td>2.200000</td>\n",
       "      <td>0.000000</td>\n",
       "      <td>1.000000</td>\n",
       "    </tr>\n",
       "    <tr>\n",
       "      <th>25%</th>\n",
       "      <td>34.100000</td>\n",
       "      <td>32.600000</td>\n",
       "      <td>33.000000</td>\n",
       "      <td>173.000000</td>\n",
       "      <td>2.000000</td>\n",
       "    </tr>\n",
       "    <tr>\n",
       "      <th>50%</th>\n",
       "      <td>50.100000</td>\n",
       "      <td>44.900000</td>\n",
       "      <td>60.600000</td>\n",
       "      <td>399.000000</td>\n",
       "      <td>4.000000</td>\n",
       "    </tr>\n",
       "    <tr>\n",
       "      <th>75%</th>\n",
       "      <td>65.000000</td>\n",
       "      <td>56.000000</td>\n",
       "      <td>81.300000</td>\n",
       "      <td>621.000000</td>\n",
       "      <td>8.250000</td>\n",
       "    </tr>\n",
       "    <tr>\n",
       "      <th>max</th>\n",
       "      <td>88.200000</td>\n",
       "      <td>84.700000</td>\n",
       "      <td>98.700000</td>\n",
       "      <td>894.000000</td>\n",
       "      <td>10.000000</td>\n",
       "    </tr>\n",
       "  </tbody>\n",
       "</table>\n",
       "</div>"
      ],
      "text/plain": [
       "             Total         Male       Female   Country_id    Region_id\n",
       "count  5264.000000  5264.000000  5264.000000  5264.000000  5264.000000\n",
       "mean     49.265843    44.600627    56.274563   397.909574     4.787234\n",
       "std      19.365789    16.051599    26.550811   261.518947     3.092399\n",
       "min       5.700000     5.300000     2.200000     0.000000     1.000000\n",
       "25%      34.100000    32.600000    33.000000   173.000000     2.000000\n",
       "50%      50.100000    44.900000    60.600000   399.000000     4.000000\n",
       "75%      65.000000    56.000000    81.300000   621.000000     8.250000\n",
       "max      88.200000    84.700000    98.700000   894.000000    10.000000"
      ]
     },
     "execution_count": 484,
     "metadata": {},
     "output_type": "execute_result"
    }
   ],
   "source": [
    "ShareOfServicesS.describe()"
   ]
  },
  {
   "cell_type": "code",
   "execution_count": 512,
   "metadata": {
    "collapsed": false,
    "deletable": true,
    "editable": true
   },
   "outputs": [],
   "source": [
    "ShareOfServicesBySector=pd.concat([ShareOfServicesA,ShareOfServicesI,ShareOfServicesS],ignore_index=True)"
   ]
  },
  {
   "cell_type": "code",
   "execution_count": 513,
   "metadata": {
    "collapsed": false,
    "deletable": true,
    "editable": true,
    "scrolled": false
   },
   "outputs": [],
   "source": [
    "ShareOfServicesBySector=ShareOfServicesBySector.rename(columns={\"Category\": \"Sector\"})"
   ]
  },
  {
   "cell_type": "code",
   "execution_count": 515,
   "metadata": {
    "collapsed": false,
    "deletable": true,
    "editable": true,
    "scrolled": true
   },
   "outputs": [
    {
     "data": {
      "text/html": [
       "<div>\n",
       "<table border=\"1\" class=\"dataframe\">\n",
       "  <thead>\n",
       "    <tr style=\"text-align: right;\">\n",
       "      <th></th>\n",
       "      <th>Year</th>\n",
       "      <th>Region_country</th>\n",
       "      <th>Sector</th>\n",
       "      <th>Total</th>\n",
       "      <th>Male</th>\n",
       "      <th>Female</th>\n",
       "      <th>Region_type</th>\n",
       "      <th>Country_id</th>\n",
       "      <th>Country_code</th>\n",
       "      <th>Region</th>\n",
       "      <th>Region_id</th>\n",
       "    </tr>\n",
       "  </thead>\n",
       "  <tbody>\n",
       "    <tr>\n",
       "      <th>0</th>\n",
       "      <td>1991</td>\n",
       "      <td>World</td>\n",
       "      <td>Agriculture</td>\n",
       "      <td>44.5</td>\n",
       "      <td>41.6</td>\n",
       "      <td>48.9</td>\n",
       "      <td>World</td>\n",
       "      <td>0</td>\n",
       "      <td>0</td>\n",
       "      <td>World</td>\n",
       "      <td>10</td>\n",
       "    </tr>\n",
       "    <tr>\n",
       "      <th>1</th>\n",
       "      <td>1992</td>\n",
       "      <td>World</td>\n",
       "      <td>Agriculture</td>\n",
       "      <td>44.3</td>\n",
       "      <td>41.5</td>\n",
       "      <td>48.7</td>\n",
       "      <td>World</td>\n",
       "      <td>0</td>\n",
       "      <td>0</td>\n",
       "      <td>World</td>\n",
       "      <td>10</td>\n",
       "    </tr>\n",
       "    <tr>\n",
       "      <th>2</th>\n",
       "      <td>1993</td>\n",
       "      <td>World</td>\n",
       "      <td>Agriculture</td>\n",
       "      <td>43.5</td>\n",
       "      <td>40.8</td>\n",
       "      <td>47.7</td>\n",
       "      <td>World</td>\n",
       "      <td>0</td>\n",
       "      <td>0</td>\n",
       "      <td>World</td>\n",
       "      <td>10</td>\n",
       "    </tr>\n",
       "  </tbody>\n",
       "</table>\n",
       "</div>"
      ],
      "text/plain": [
       "   Year Region_country       Sector  Total  Male  Female Region_type  \\\n",
       "0  1991          World  Agriculture   44.5  41.6    48.9       World   \n",
       "1  1992          World  Agriculture   44.3  41.5    48.7       World   \n",
       "2  1993          World  Agriculture   43.5  40.8    47.7       World   \n",
       "\n",
       "   Country_id Country_code Region  Region_id  \n",
       "0           0            0  World         10  \n",
       "1           0            0  World         10  \n",
       "2           0            0  World         10  "
      ]
     },
     "execution_count": 515,
     "metadata": {},
     "output_type": "execute_result"
    }
   ],
   "source": [
    "ShareOfServicesBySector.ix[:2]"
   ]
  },
  {
   "cell_type": "code",
   "execution_count": 494,
   "metadata": {
    "collapsed": false,
    "deletable": true,
    "editable": true
   },
   "outputs": [
    {
     "data": {
      "text/html": [
       "<div>\n",
       "<table border=\"1\" class=\"dataframe\">\n",
       "  <thead>\n",
       "    <tr style=\"text-align: right;\">\n",
       "      <th></th>\n",
       "      <th>Year</th>\n",
       "      <th>Region_country</th>\n",
       "      <th>Agriculture</th>\n",
       "      <th>Agriculture_Male</th>\n",
       "      <th>Agriculture_Female</th>\n",
       "      <th>Industry</th>\n",
       "      <th>Industry_Male</th>\n",
       "      <th>Industry_Female</th>\n",
       "      <th>Services</th>\n",
       "      <th>Services_Male</th>\n",
       "      <th>Services_Female</th>\n",
       "      <th>Region_type</th>\n",
       "      <th>Country_id</th>\n",
       "      <th>Country_code</th>\n",
       "      <th>Region</th>\n",
       "      <th>Region_id</th>\n",
       "    </tr>\n",
       "  </thead>\n",
       "  <tbody>\n",
       "    <tr>\n",
       "      <th>0</th>\n",
       "      <td>1991</td>\n",
       "      <td>World</td>\n",
       "      <td>44.5</td>\n",
       "      <td>41.6</td>\n",
       "      <td>48.9</td>\n",
       "      <td>21.7</td>\n",
       "      <td>25.0</td>\n",
       "      <td>16.6</td>\n",
       "      <td>33.8</td>\n",
       "      <td>33.4</td>\n",
       "      <td>34.4</td>\n",
       "      <td>World</td>\n",
       "      <td>0</td>\n",
       "      <td>0</td>\n",
       "      <td>World</td>\n",
       "      <td>10</td>\n",
       "    </tr>\n",
       "    <tr>\n",
       "      <th>1</th>\n",
       "      <td>1992</td>\n",
       "      <td>World</td>\n",
       "      <td>44.3</td>\n",
       "      <td>41.5</td>\n",
       "      <td>48.7</td>\n",
       "      <td>21.5</td>\n",
       "      <td>24.8</td>\n",
       "      <td>16.4</td>\n",
       "      <td>34.2</td>\n",
       "      <td>33.7</td>\n",
       "      <td>34.9</td>\n",
       "      <td>World</td>\n",
       "      <td>0</td>\n",
       "      <td>0</td>\n",
       "      <td>World</td>\n",
       "      <td>10</td>\n",
       "    </tr>\n",
       "    <tr>\n",
       "      <th>2</th>\n",
       "      <td>1993</td>\n",
       "      <td>World</td>\n",
       "      <td>43.5</td>\n",
       "      <td>40.8</td>\n",
       "      <td>47.7</td>\n",
       "      <td>21.4</td>\n",
       "      <td>24.7</td>\n",
       "      <td>16.3</td>\n",
       "      <td>35.0</td>\n",
       "      <td>34.5</td>\n",
       "      <td>35.9</td>\n",
       "      <td>World</td>\n",
       "      <td>0</td>\n",
       "      <td>0</td>\n",
       "      <td>World</td>\n",
       "      <td>10</td>\n",
       "    </tr>\n",
       "  </tbody>\n",
       "</table>\n",
       "</div>"
      ],
      "text/plain": [
       "   Year Region_country  Agriculture  Agriculture_Male  Agriculture_Female  \\\n",
       "0  1991          World         44.5              41.6                48.9   \n",
       "1  1992          World         44.3              41.5                48.7   \n",
       "2  1993          World         43.5              40.8                47.7   \n",
       "\n",
       "   Industry  Industry_Male  Industry_Female  Services  Services_Male  \\\n",
       "0      21.7           25.0             16.6      33.8           33.4   \n",
       "1      21.5           24.8             16.4      34.2           33.7   \n",
       "2      21.4           24.7             16.3      35.0           34.5   \n",
       "\n",
       "   Services_Female Region_type  Country_id Country_code Region  Region_id  \n",
       "0             34.4       World           0            0  World         10  \n",
       "1             34.9       World           0            0  World         10  \n",
       "2             35.9       World           0            0  World         10  "
      ]
     },
     "execution_count": 494,
     "metadata": {},
     "output_type": "execute_result"
    }
   ],
   "source": [
    "ShareOfServices1.ix[:2]"
   ]
  },
  {
   "cell_type": "code",
   "execution_count": 516,
   "metadata": {
    "collapsed": true,
    "deletable": true,
    "editable": true
   },
   "outputs": [],
   "source": [
    "ShareOfServicesBySector1=ShareOfServicesBySector"
   ]
  },
  {
   "cell_type": "code",
   "execution_count": 527,
   "metadata": {
    "collapsed": true,
    "deletable": true,
    "editable": true
   },
   "outputs": [],
   "source": [
    "ShareOfServicesBySectorByGender=pd.melt(ShareOfServicesBySector, \n",
    "            id_vars=['Year','Region_country','Region_type','Country_id','Country_code','Region','Region_id','Sector'], \n",
    "            value_vars=['Total','Male','Female'], var_name='Gender', value_name='Share')"
   ]
  },
  {
   "cell_type": "code",
   "execution_count": 528,
   "metadata": {
    "collapsed": false,
    "deletable": true,
    "editable": true
   },
   "outputs": [
    {
     "data": {
      "text/html": [
       "<div>\n",
       "<table border=\"1\" class=\"dataframe\">\n",
       "  <thead>\n",
       "    <tr style=\"text-align: right;\">\n",
       "      <th></th>\n",
       "      <th>Year</th>\n",
       "      <th>Region_country</th>\n",
       "      <th>Region_type</th>\n",
       "      <th>Country_id</th>\n",
       "      <th>Country_code</th>\n",
       "      <th>Region</th>\n",
       "      <th>Region_id</th>\n",
       "      <th>Sector</th>\n",
       "      <th>Gender</th>\n",
       "      <th>Share</th>\n",
       "    </tr>\n",
       "  </thead>\n",
       "  <tbody>\n",
       "    <tr>\n",
       "      <th>0</th>\n",
       "      <td>1991</td>\n",
       "      <td>World</td>\n",
       "      <td>World</td>\n",
       "      <td>0</td>\n",
       "      <td>0</td>\n",
       "      <td>World</td>\n",
       "      <td>10</td>\n",
       "      <td>Agriculture</td>\n",
       "      <td>Total</td>\n",
       "      <td>44.5</td>\n",
       "    </tr>\n",
       "    <tr>\n",
       "      <th>1</th>\n",
       "      <td>1992</td>\n",
       "      <td>World</td>\n",
       "      <td>World</td>\n",
       "      <td>0</td>\n",
       "      <td>0</td>\n",
       "      <td>World</td>\n",
       "      <td>10</td>\n",
       "      <td>Agriculture</td>\n",
       "      <td>Total</td>\n",
       "      <td>44.3</td>\n",
       "    </tr>\n",
       "    <tr>\n",
       "      <th>2</th>\n",
       "      <td>1993</td>\n",
       "      <td>World</td>\n",
       "      <td>World</td>\n",
       "      <td>0</td>\n",
       "      <td>0</td>\n",
       "      <td>World</td>\n",
       "      <td>10</td>\n",
       "      <td>Agriculture</td>\n",
       "      <td>Total</td>\n",
       "      <td>43.5</td>\n",
       "    </tr>\n",
       "    <tr>\n",
       "      <th>3</th>\n",
       "      <td>1994</td>\n",
       "      <td>World</td>\n",
       "      <td>World</td>\n",
       "      <td>0</td>\n",
       "      <td>0</td>\n",
       "      <td>World</td>\n",
       "      <td>10</td>\n",
       "      <td>Agriculture</td>\n",
       "      <td>Total</td>\n",
       "      <td>42.8</td>\n",
       "    </tr>\n",
       "  </tbody>\n",
       "</table>\n",
       "</div>"
      ],
      "text/plain": [
       "   Year Region_country Region_type  Country_id Country_code Region  Region_id  \\\n",
       "0  1991          World       World           0            0  World         10   \n",
       "1  1992          World       World           0            0  World         10   \n",
       "2  1993          World       World           0            0  World         10   \n",
       "3  1994          World       World           0            0  World         10   \n",
       "\n",
       "        Sector Gender  Share  \n",
       "0  Agriculture  Total   44.5  \n",
       "1  Agriculture  Total   44.3  \n",
       "2  Agriculture  Total   43.5  \n",
       "3  Agriculture  Total   42.8  "
      ]
     },
     "execution_count": 528,
     "metadata": {},
     "output_type": "execute_result"
    }
   ],
   "source": [
    "ShareOfServicesBySectorByGender.ix[:3]"
   ]
  },
  {
   "cell_type": "code",
   "execution_count": 530,
   "metadata": {
    "collapsed": false,
    "deletable": true,
    "editable": true
   },
   "outputs": [
    {
     "data": {
      "text/html": [
       "<div>\n",
       "<table border=\"1\" class=\"dataframe\">\n",
       "  <thead>\n",
       "    <tr style=\"text-align: right;\">\n",
       "      <th></th>\n",
       "      <th>Country_id</th>\n",
       "      <th>Region_id</th>\n",
       "      <th>Share</th>\n",
       "    </tr>\n",
       "  </thead>\n",
       "  <tbody>\n",
       "    <tr>\n",
       "      <th>count</th>\n",
       "      <td>47376.000000</td>\n",
       "      <td>47376.000000</td>\n",
       "      <td>47376.000000</td>\n",
       "    </tr>\n",
       "    <tr>\n",
       "      <th>mean</th>\n",
       "      <td>397.909574</td>\n",
       "      <td>4.787234</td>\n",
       "      <td>33.331315</td>\n",
       "    </tr>\n",
       "    <tr>\n",
       "      <th>std</th>\n",
       "      <td>261.496866</td>\n",
       "      <td>3.092138</td>\n",
       "      <td>24.350479</td>\n",
       "    </tr>\n",
       "    <tr>\n",
       "      <th>min</th>\n",
       "      <td>0.000000</td>\n",
       "      <td>1.000000</td>\n",
       "      <td>0.000000</td>\n",
       "    </tr>\n",
       "    <tr>\n",
       "      <th>25%</th>\n",
       "      <td>173.000000</td>\n",
       "      <td>2.000000</td>\n",
       "      <td>12.800000</td>\n",
       "    </tr>\n",
       "    <tr>\n",
       "      <th>50%</th>\n",
       "      <td>399.000000</td>\n",
       "      <td>4.000000</td>\n",
       "      <td>27.800000</td>\n",
       "    </tr>\n",
       "    <tr>\n",
       "      <th>75%</th>\n",
       "      <td>621.000000</td>\n",
       "      <td>8.250000</td>\n",
       "      <td>50.500000</td>\n",
       "    </tr>\n",
       "    <tr>\n",
       "      <th>max</th>\n",
       "      <td>894.000000</td>\n",
       "      <td>10.000000</td>\n",
       "      <td>98.700000</td>\n",
       "    </tr>\n",
       "  </tbody>\n",
       "</table>\n",
       "</div>"
      ],
      "text/plain": [
       "         Country_id     Region_id         Share\n",
       "count  47376.000000  47376.000000  47376.000000\n",
       "mean     397.909574      4.787234     33.331315\n",
       "std      261.496866      3.092138     24.350479\n",
       "min        0.000000      1.000000      0.000000\n",
       "25%      173.000000      2.000000     12.800000\n",
       "50%      399.000000      4.000000     27.800000\n",
       "75%      621.000000      8.250000     50.500000\n",
       "max      894.000000     10.000000     98.700000"
      ]
     },
     "execution_count": 530,
     "metadata": {},
     "output_type": "execute_result"
    }
   ],
   "source": [
    "ShareOfServicesBySectorByGender.describe()"
   ]
  },
  {
   "cell_type": "code",
   "execution_count": 531,
   "metadata": {
    "collapsed": false,
    "deletable": true,
    "editable": true
   },
   "outputs": [
    {
     "data": {
      "text/html": [
       "<div>\n",
       "<table border=\"1\" class=\"dataframe\">\n",
       "  <thead>\n",
       "    <tr style=\"text-align: right;\">\n",
       "      <th></th>\n",
       "      <th>Year</th>\n",
       "      <th>Region_country</th>\n",
       "      <th>Agriculture</th>\n",
       "      <th>Agriculture_Male</th>\n",
       "      <th>Agriculture_Female</th>\n",
       "      <th>Industry</th>\n",
       "      <th>Industry_Male</th>\n",
       "      <th>Industry_Female</th>\n",
       "      <th>Services</th>\n",
       "      <th>Services_Male</th>\n",
       "      <th>Services_Female</th>\n",
       "      <th>Region_type</th>\n",
       "      <th>Country_id</th>\n",
       "      <th>Country_code</th>\n",
       "      <th>Region</th>\n",
       "      <th>Region_id</th>\n",
       "      <th>GDP_per_Capita</th>\n",
       "      <th>Output_per_worker</th>\n",
       "    </tr>\n",
       "  </thead>\n",
       "  <tbody>\n",
       "    <tr>\n",
       "      <th>0</th>\n",
       "      <td>1991</td>\n",
       "      <td>World</td>\n",
       "      <td>44.5</td>\n",
       "      <td>41.6</td>\n",
       "      <td>48.9</td>\n",
       "      <td>21.7</td>\n",
       "      <td>25.0</td>\n",
       "      <td>16.6</td>\n",
       "      <td>33.8</td>\n",
       "      <td>33.4</td>\n",
       "      <td>34.4</td>\n",
       "      <td>World</td>\n",
       "      <td>0</td>\n",
       "      <td>0</td>\n",
       "      <td>World</td>\n",
       "      <td>10</td>\n",
       "      <td>NaN</td>\n",
       "      <td>16138</td>\n",
       "    </tr>\n",
       "    <tr>\n",
       "      <th>1</th>\n",
       "      <td>1992</td>\n",
       "      <td>World</td>\n",
       "      <td>44.3</td>\n",
       "      <td>41.5</td>\n",
       "      <td>48.7</td>\n",
       "      <td>21.5</td>\n",
       "      <td>24.8</td>\n",
       "      <td>16.4</td>\n",
       "      <td>34.2</td>\n",
       "      <td>33.7</td>\n",
       "      <td>34.9</td>\n",
       "      <td>World</td>\n",
       "      <td>0</td>\n",
       "      <td>0</td>\n",
       "      <td>World</td>\n",
       "      <td>10</td>\n",
       "      <td>NaN</td>\n",
       "      <td>16054</td>\n",
       "    </tr>\n",
       "    <tr>\n",
       "      <th>2</th>\n",
       "      <td>1993</td>\n",
       "      <td>World</td>\n",
       "      <td>43.5</td>\n",
       "      <td>40.8</td>\n",
       "      <td>47.7</td>\n",
       "      <td>21.4</td>\n",
       "      <td>24.7</td>\n",
       "      <td>16.3</td>\n",
       "      <td>35.0</td>\n",
       "      <td>34.5</td>\n",
       "      <td>35.9</td>\n",
       "      <td>World</td>\n",
       "      <td>0</td>\n",
       "      <td>0</td>\n",
       "      <td>World</td>\n",
       "      <td>10</td>\n",
       "      <td>NaN</td>\n",
       "      <td>16135</td>\n",
       "    </tr>\n",
       "    <tr>\n",
       "      <th>3</th>\n",
       "      <td>1994</td>\n",
       "      <td>World</td>\n",
       "      <td>42.8</td>\n",
       "      <td>40.2</td>\n",
       "      <td>46.8</td>\n",
       "      <td>21.3</td>\n",
       "      <td>24.7</td>\n",
       "      <td>16.2</td>\n",
       "      <td>35.9</td>\n",
       "      <td>35.2</td>\n",
       "      <td>37.0</td>\n",
       "      <td>World</td>\n",
       "      <td>0</td>\n",
       "      <td>0</td>\n",
       "      <td>World</td>\n",
       "      <td>10</td>\n",
       "      <td>NaN</td>\n",
       "      <td>16350</td>\n",
       "    </tr>\n",
       "  </tbody>\n",
       "</table>\n",
       "</div>"
      ],
      "text/plain": [
       "   Year Region_country  Agriculture  Agriculture_Male  Agriculture_Female  \\\n",
       "0  1991          World         44.5              41.6                48.9   \n",
       "1  1992          World         44.3              41.5                48.7   \n",
       "2  1993          World         43.5              40.8                47.7   \n",
       "3  1994          World         42.8              40.2                46.8   \n",
       "\n",
       "   Industry  Industry_Male  Industry_Female  Services  Services_Male  \\\n",
       "0      21.7           25.0             16.6      33.8           33.4   \n",
       "1      21.5           24.8             16.4      34.2           33.7   \n",
       "2      21.4           24.7             16.3      35.0           34.5   \n",
       "3      21.3           24.7             16.2      35.9           35.2   \n",
       "\n",
       "   Services_Female Region_type  Country_id Country_code Region  Region_id  \\\n",
       "0             34.4       World           0            0  World         10   \n",
       "1             34.9       World           0            0  World         10   \n",
       "2             35.9       World           0            0  World         10   \n",
       "3             37.0       World           0            0  World         10   \n",
       "\n",
       "   GDP_per_Capita  Output_per_worker  \n",
       "0             NaN              16138  \n",
       "1             NaN              16054  \n",
       "2             NaN              16135  \n",
       "3             NaN              16350  "
      ]
     },
     "execution_count": 531,
     "metadata": {},
     "output_type": "execute_result"
    }
   ],
   "source": [
    "data_prod_gdp.ix[:3]"
   ]
  },
  {
   "cell_type": "code",
   "execution_count": 555,
   "metadata": {
    "collapsed": false,
    "deletable": true,
    "editable": true
   },
   "outputs": [],
   "source": [
    "ShareOfService_country=ShareOfServicesBySectorByGender[(ShareOfServicesBySectorByGender['Sector']== 'Services')\n",
    "                                                      &(ShareOfServicesBySectorByGender['Region_type']== 'country')]\n",
    "ShareOfService_country=ShareOfService_country.drop(['Region_type','Country_code','Sector'],axis=1)\n",
    "ShareOfService_country=ShareOfService_country.rename(columns={'Region_country':'Country'})"
   ]
  },
  {
   "cell_type": "code",
   "execution_count": 556,
   "metadata": {
    "collapsed": false,
    "deletable": true,
    "editable": true
   },
   "outputs": [],
   "source": [
    "ShareOfService_country.to_csv('ShareOfService_country.csv')"
   ]
  },
  {
   "cell_type": "code",
   "execution_count": 559,
   "metadata": {
    "collapsed": false,
    "deletable": true,
    "editable": true
   },
   "outputs": [],
   "source": [
    "ShareOfService_region=ShareOfServicesBySectorByGender[(ShareOfServicesBySectorByGender['Sector']== 'Services')\n",
    "                                                      &(ShareOfServicesBySectorByGender['Region_type']== 'Region')]\n",
    "ShareOfService_region=ShareOfService_region.drop(['Region_country','Region_type','Country_id','Country_code','Sector'],axis=1)"
   ]
  },
  {
   "cell_type": "code",
   "execution_count": 561,
   "metadata": {
    "collapsed": false,
    "deletable": true,
    "editable": true
   },
   "outputs": [],
   "source": [
    "ShareOfService_region.to_csv('ShareOfService_region.csv')"
   ]
  },
  {
   "cell_type": "code",
   "execution_count": 572,
   "metadata": {
    "collapsed": true,
    "deletable": true,
    "editable": true
   },
   "outputs": [],
   "source": [
    "ShareOfServicesBySectorByGender=pd.melt(ShareOfServicesBySector, \n",
    "            id_vars=['Year','Region_country','Region_type','Country_id','Country_code','Region','Region_id','Sector'], \n",
    "            value_vars=['Total','Male','Female'], var_name='Gender', value_name='Share')"
   ]
  },
  {
   "cell_type": "code",
   "execution_count": 573,
   "metadata": {
    "collapsed": false,
    "deletable": true,
    "editable": true
   },
   "outputs": [
    {
     "data": {
      "text/html": [
       "<div>\n",
       "<table border=\"1\" class=\"dataframe\">\n",
       "  <thead>\n",
       "    <tr style=\"text-align: right;\">\n",
       "      <th></th>\n",
       "      <th>Year</th>\n",
       "      <th>Region_country</th>\n",
       "      <th>Region_type</th>\n",
       "      <th>Country_id</th>\n",
       "      <th>Country_code</th>\n",
       "      <th>Region</th>\n",
       "      <th>Region_id</th>\n",
       "      <th>Sector</th>\n",
       "      <th>Gender</th>\n",
       "      <th>Share</th>\n",
       "    </tr>\n",
       "  </thead>\n",
       "  <tbody>\n",
       "    <tr>\n",
       "      <th>0</th>\n",
       "      <td>1991</td>\n",
       "      <td>World</td>\n",
       "      <td>World</td>\n",
       "      <td>0</td>\n",
       "      <td>0</td>\n",
       "      <td>World</td>\n",
       "      <td>10</td>\n",
       "      <td>Agriculture</td>\n",
       "      <td>Total</td>\n",
       "      <td>44.5</td>\n",
       "    </tr>\n",
       "    <tr>\n",
       "      <th>1</th>\n",
       "      <td>1992</td>\n",
       "      <td>World</td>\n",
       "      <td>World</td>\n",
       "      <td>0</td>\n",
       "      <td>0</td>\n",
       "      <td>World</td>\n",
       "      <td>10</td>\n",
       "      <td>Agriculture</td>\n",
       "      <td>Total</td>\n",
       "      <td>44.3</td>\n",
       "    </tr>\n",
       "  </tbody>\n",
       "</table>\n",
       "</div>"
      ],
      "text/plain": [
       "   Year Region_country Region_type  Country_id Country_code Region  Region_id  \\\n",
       "0  1991          World       World           0            0  World         10   \n",
       "1  1992          World       World           0            0  World         10   \n",
       "\n",
       "        Sector Gender  Share  \n",
       "0  Agriculture  Total   44.5  \n",
       "1  Agriculture  Total   44.3  "
      ]
     },
     "execution_count": 573,
     "metadata": {},
     "output_type": "execute_result"
    }
   ],
   "source": [
    "ShareOfServicesBySectorByGender.ix[:1]"
   ]
  },
  {
   "cell_type": "code",
   "execution_count": 605,
   "metadata": {
    "collapsed": false,
    "deletable": true,
    "editable": true
   },
   "outputs": [],
   "source": [
    "ShareOfALL3Secotr_country=data_prod_gdp[data_prod_gdp['Region_type']=='country']"
   ]
  },
  {
   "cell_type": "code",
   "execution_count": 606,
   "metadata": {
    "collapsed": false,
    "deletable": true,
    "editable": true
   },
   "outputs": [],
   "source": [
    "ShareOfALL3Secotr_country=ShareOfALL3Secotr_country.drop(['Country_code','Region_type'],axis=1)\n",
    "ShareOfALL3Secotr_country=ShareOfALL3Secotr_country.rename(columns={'Region_country':'Country'})"
   ]
  },
  {
   "cell_type": "code",
   "execution_count": 609,
   "metadata": {
    "collapsed": false,
    "deletable": true,
    "editable": true
   },
   "outputs": [],
   "source": [
    "ShareOfALL3Secotr_country.to_csv('ShareOfAll3Secotr_country.csv')"
   ]
  },
  {
   "cell_type": "code",
   "execution_count": 652,
   "metadata": {
    "collapsed": false,
    "deletable": true,
    "editable": true
   },
   "outputs": [],
   "source": [
    "parcoords1=ShareOfServicesBySector[(ShareOfServicesBySector['Region_type'].isin(['Region','World']))\n",
    "                                   &(ShareOfServicesBySector['Year'].isin(['2012','2018']))][['Year','Region','Region_id','Sector','Total']]"
   ]
  },
  {
   "cell_type": "code",
   "execution_count": 653,
   "metadata": {
    "collapsed": false,
    "deletable": true,
    "editable": true
   },
   "outputs": [],
   "source": [
    "parcoords1.to_csv('parcoords1.csv')"
   ]
  },
  {
   "cell_type": "code",
   "execution_count": 647,
   "metadata": {
    "collapsed": true,
    "deletable": true,
    "editable": true
   },
   "outputs": [],
   "source": [
    "parcoords2=data_prod_gdp[(data_prod_gdp['Region_type'].isin(['Region','World']))\n",
    "                                   &(data_prod_gdp['Year']=='2012')][['Year','Region','Region_id','Services_Female']]"
   ]
  },
  {
   "cell_type": "code",
   "execution_count": null,
   "metadata": {
    "collapsed": true,
    "deletable": true,
    "editable": true
   },
   "outputs": [],
   "source": [
    "parcoords2"
   ]
  },
  {
   "cell_type": "code",
   "execution_count": 648,
   "metadata": {
    "collapsed": false,
    "deletable": true,
    "editable": true,
    "scrolled": true
   },
   "outputs": [
    {
     "data": {
      "text/html": [
       "<div>\n",
       "<table border=\"1\" class=\"dataframe\">\n",
       "  <thead>\n",
       "    <tr style=\"text-align: right;\">\n",
       "      <th></th>\n",
       "      <th>Year</th>\n",
       "      <th>Region</th>\n",
       "      <th>Region_id</th>\n",
       "      <th>Services_Female</th>\n",
       "    </tr>\n",
       "  </thead>\n",
       "  <tbody>\n",
       "    <tr>\n",
       "      <th>21</th>\n",
       "      <td>2012</td>\n",
       "      <td>World</td>\n",
       "      <td>10</td>\n",
       "      <td>49.2</td>\n",
       "    </tr>\n",
       "    <tr>\n",
       "      <th>49</th>\n",
       "      <td>2012</td>\n",
       "      <td>Developed Economies &amp; European Union</td>\n",
       "      <td>1</td>\n",
       "      <td>86.1</td>\n",
       "    </tr>\n",
       "    <tr>\n",
       "      <th>1113</th>\n",
       "      <td>2012</td>\n",
       "      <td>Central &amp; South Eastern Europe (non-EU) &amp; CIS</td>\n",
       "      <td>2</td>\n",
       "      <td>62.2</td>\n",
       "    </tr>\n",
       "    <tr>\n",
       "      <th>1645</th>\n",
       "      <td>2012</td>\n",
       "      <td>East Asia</td>\n",
       "      <td>6</td>\n",
       "      <td>38.7</td>\n",
       "    </tr>\n",
       "    <tr>\n",
       "      <th>1869</th>\n",
       "      <td>2012</td>\n",
       "      <td>South East Asia &amp; the Pacific</td>\n",
       "      <td>4</td>\n",
       "      <td>43.7</td>\n",
       "    </tr>\n",
       "    <tr>\n",
       "      <th>2289</th>\n",
       "      <td>2012</td>\n",
       "      <td>South Asia</td>\n",
       "      <td>5</td>\n",
       "      <td>17.0</td>\n",
       "    </tr>\n",
       "    <tr>\n",
       "      <th>2541</th>\n",
       "      <td>2012</td>\n",
       "      <td>Latin America &amp; the Caribbean</td>\n",
       "      <td>3</td>\n",
       "      <td>78.7</td>\n",
       "    </tr>\n",
       "    <tr>\n",
       "      <th>3409</th>\n",
       "      <td>2012</td>\n",
       "      <td>Middle East</td>\n",
       "      <td>7</td>\n",
       "      <td>62.2</td>\n",
       "    </tr>\n",
       "    <tr>\n",
       "      <th>3801</th>\n",
       "      <td>2012</td>\n",
       "      <td>North Africa</td>\n",
       "      <td>8</td>\n",
       "      <td>49.0</td>\n",
       "    </tr>\n",
       "    <tr>\n",
       "      <th>3997</th>\n",
       "      <td>2012</td>\n",
       "      <td>Sub-Saharan Africa</td>\n",
       "      <td>9</td>\n",
       "      <td>31.4</td>\n",
       "    </tr>\n",
       "  </tbody>\n",
       "</table>\n",
       "</div>"
      ],
      "text/plain": [
       "      Year                                         Region  Region_id  \\\n",
       "21    2012                                          World         10   \n",
       "49    2012           Developed Economies & European Union          1   \n",
       "1113  2012  Central & South Eastern Europe (non-EU) & CIS          2   \n",
       "1645  2012                                      East Asia          6   \n",
       "1869  2012                  South East Asia & the Pacific          4   \n",
       "2289  2012                                     South Asia          5   \n",
       "2541  2012                  Latin America & the Caribbean          3   \n",
       "3409  2012                                    Middle East          7   \n",
       "3801  2012                                   North Africa          8   \n",
       "3997  2012                             Sub-Saharan Africa          9   \n",
       "\n",
       "      Services_Female  \n",
       "21               49.2  \n",
       "49               86.1  \n",
       "1113             62.2  \n",
       "1645             38.7  \n",
       "1869             43.7  \n",
       "2289             17.0  \n",
       "2541             78.7  \n",
       "3409             62.2  \n",
       "3801             49.0  \n",
       "3997             31.4  "
      ]
     },
     "execution_count": 648,
     "metadata": {},
     "output_type": "execute_result"
    }
   ],
   "source": [
    "parcoords2"
   ]
  },
  {
   "cell_type": "code",
   "execution_count": 93,
   "metadata": {
    "collapsed": false,
    "deletable": true,
    "editable": true
   },
   "outputs": [],
   "source": [
    "parcoords3=data_prod_gdp[(data_prod_gdp['Region_type'].isin(['Region','World']))\n",
    "                                   &(data_prod_gdp['Year']=='2012')][['Year','Region','Region_id','Services_Male']]"
   ]
  },
  {
   "cell_type": "code",
   "execution_count": null,
   "metadata": {
    "collapsed": true,
    "deletable": true,
    "editable": true
   },
   "outputs": [],
   "source": []
  }
 ],
 "metadata": {
  "kernelspec": {
   "display_name": "Python 3",
   "language": "python",
   "name": "python3"
  },
  "language_info": {
   "codemirror_mode": {
    "name": "ipython",
    "version": 3
   },
   "file_extension": ".py",
   "mimetype": "text/x-python",
   "name": "python",
   "nbconvert_exporter": "python",
   "pygments_lexer": "ipython3",
   "version": "3.5.2"
  }
 },
 "nbformat": 4,
 "nbformat_minor": 2
}
